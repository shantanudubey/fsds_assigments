{
 "cells": [
  {
   "cell_type": "markdown",
   "id": "af67a5ec",
   "metadata": {},
   "source": [
    "1.What are the two values of the Boolean data type? How do you write them?"
   ]
  },
  {
   "cell_type": "markdown",
   "id": "2b78b2b1",
   "metadata": {},
   "source": [
    "A1: True and False"
   ]
  },
  {
   "cell_type": "markdown",
   "id": "0ac075bb",
   "metadata": {},
   "source": [
    "2. What are the three different types of Boolean operators?"
   ]
  },
  {
   "cell_type": "markdown",
   "id": "12da033b",
   "metadata": {},
   "source": [
    "A2: and, or, not"
   ]
  },
  {
   "cell_type": "markdown",
   "id": "12995c12",
   "metadata": {},
   "source": [
    "3. Make a list of each Boolean operator's truth tables (i.e. every possible combination of Boolean\n",
    "values for the operator and what it evaluate )."
   ]
  },
  {
   "cell_type": "markdown",
   "id": "43bf6d4e",
   "metadata": {},
   "source": [
    "A3: \n",
    "\n",
    "0 = True\n",
    "1 = False\n",
    "\n",
    "and : \n",
    "    0 and 0 = 0\n",
    "    1 and 0 = 0\n",
    "    0 and 1 = 0\n",
    "    1 and 1 = 1\n",
    "\n",
    "or : \n",
    "    0 or 0 = 0\n",
    "    1 or 0 = 1\n",
    "    0 or 1 = 1\n",
    "    1 or 1 = 1\n",
    "\n",
    "not : \n",
    "    not 0 = 1\n",
    "    not 1 = 0\n"
   ]
  },
  {
   "cell_type": "markdown",
   "id": "cfebf2e7",
   "metadata": {},
   "source": [
    "4. What are the values of the following expressions?\n",
    "(5 > 4) and (3 == 5)\n",
    "not (5 > 4)\n",
    "(5 > 4) or (3 == 5)\n",
    "not ((5 > 4) or (3 == 5))\n",
    "(True and True) and (True == False)\n",
    "(not False) or (not True)"
   ]
  },
  {
   "cell_type": "markdown",
   "id": "441a8375",
   "metadata": {},
   "source": [
    "A4: \n",
    "\n",
    "(5 > 4) and (3 == 5) : False\n",
    "not (5 > 4) : False\n",
    "(5 > 4) or (3 == 5) : True\n",
    "not ((5 > 4) or (3 == 5)) : False\n",
    "(True and True) and (True == False) : False\n",
    "(not False) or (not True) : True"
   ]
  },
  {
   "cell_type": "markdown",
   "id": "9a5eef96",
   "metadata": {},
   "source": [
    "5. What are the six comparison operators?"
   ]
  },
  {
   "cell_type": "markdown",
   "id": "55907a20",
   "metadata": {},
   "source": [
    "A5:  <, >, ==, <=, >= !="
   ]
  },
  {
   "cell_type": "markdown",
   "id": "7e1f4c3c",
   "metadata": {},
   "source": [
    "6. How do you tell the difference between the equal to and assignment operators?Describe a condition and when you would use one."
   ]
  },
  {
   "cell_type": "markdown",
   "id": "3b843f63",
   "metadata": {},
   "source": [
    "A6:\n",
    "\n",
    "equal : '=='\n",
    "assignment: '=' \n",
    "\n",
    "Example:\n",
    "    if biometric_entry == True:\n",
    "        attendance_status = \"Present\"\n",
    "    else:\n",
    "        attendance_status = \"Absent\""
   ]
  },
  {
   "cell_type": "markdown",
   "id": "e93e0b44",
   "metadata": {},
   "source": [
    "7. Identify the three blocks in this code:\n",
    "spam = 0\n",
    "if spam == 10:\n",
    "print('eggs')\n",
    "if spam > 5:\n",
    "print('bacon')\n",
    "else:\n",
    "print('ham')\n",
    "print('spam')\n",
    "print('spam')"
   ]
  },
  {
   "cell_type": "code",
   "execution_count": 26,
   "id": "ad7720fc",
   "metadata": {},
   "outputs": [
    {
     "name": "stdout",
     "output_type": "stream",
     "text": [
      "ham\n",
      "spam\n",
      "spam\n"
     ]
    }
   ],
   "source": [
    "#A7: \n",
    "\n",
    "spam = 0\n",
    "\n",
    "if spam == 10:\n",
    "    #block 1\n",
    "    print('eggs')\n",
    "if spam > 5:\n",
    "    #block 2\n",
    "    print('bacon')\n",
    "else:\n",
    "    #block 3\n",
    "    print('ham')\n",
    "    print('spam')\n",
    "    print('spam')"
   ]
  },
  {
   "cell_type": "markdown",
   "id": "9cedb08f",
   "metadata": {},
   "source": [
    "8. Write code that prints Hello if 1 is stored in spam, prints Howdy if 2 is stored in spam, and prints Greetings! if anything else is stored in spam."
   ]
  },
  {
   "cell_type": "code",
   "execution_count": 27,
   "id": "c16a0683",
   "metadata": {},
   "outputs": [
    {
     "name": "stdout",
     "output_type": "stream",
     "text": [
      "Greetings!\n"
     ]
    }
   ],
   "source": [
    "#A8:\n",
    "spam = 0\n",
    "\n",
    "if spam == 1:\n",
    "    print(\"Hello\")\n",
    "elif spam == 2:\n",
    "    print(\"Howdy\")\n",
    "else:\n",
    "    print(\"Greetings!\")\n"
   ]
  },
  {
   "cell_type": "markdown",
   "id": "7267b2a0",
   "metadata": {},
   "source": [
    "9.If your programme is stuck in an endless loop, what keys you’ll press?"
   ]
  },
  {
   "cell_type": "markdown",
   "id": "14a96cc0",
   "metadata": {},
   "source": [
    "A9: Press Ctrl + c twice"
   ]
  },
  {
   "cell_type": "markdown",
   "id": "a3c25003",
   "metadata": {},
   "source": [
    "10. How can you tell the difference between break and continue?"
   ]
  },
  {
   "cell_type": "markdown",
   "id": "acb4a4ab",
   "metadata": {},
   "source": [
    "A10: "
   ]
  },
  {
   "cell_type": "markdown",
   "id": "ae9ca028",
   "metadata": {},
   "source": [
    "11. In a for loop, what is the difference between range(10), range(0, 10), and range(0, 10, 1)"
   ]
  },
  {
   "cell_type": "markdown",
   "id": "964aa6e3",
   "metadata": {},
   "source": [
    "A11: No difference in execution just declaration is easier with default values."
   ]
  },
  {
   "cell_type": "markdown",
   "id": "fe38aa2a",
   "metadata": {},
   "source": [
    "12. Write a short program that prints the numbers 1 to 10 using a for loop. Then write an equivalent program that prints the numbers 1 to 10 using a while loop."
   ]
  },
  {
   "cell_type": "code",
   "execution_count": null,
   "id": "5143595f",
   "metadata": {},
   "outputs": [],
   "source": [
    "#A12: \n",
    "\n",
    "print(\"For >>\")\n",
    "for i in range(1,11):\n",
    "    print(i, end  = \" \")\n",
    "print()\n",
    "print(\"While >>\")\n",
    "count = 1\n",
    "while count < 11:\n",
    "    print(count, end = \" \")\n",
    "    count = count + 1\n",
    "print()"
   ]
  },
  {
   "cell_type": "markdown",
   "id": "034d0338",
   "metadata": {},
   "source": [
    "13. If you had a function named bacon() inside a module named spam, how would you call it after importing spam?"
   ]
  },
  {
   "cell_type": "markdown",
   "id": "aee5ffe4",
   "metadata": {},
   "source": [
    "A13: \n",
    "spam.bacon()"
   ]
  }
 ],
 "metadata": {
  "kernelspec": {
   "display_name": "Python 3 (ipykernel)",
   "language": "python",
   "name": "python3"
  },
  "language_info": {
   "codemirror_mode": {
    "name": "ipython",
    "version": 3
   },
   "file_extension": ".py",
   "mimetype": "text/x-python",
   "name": "python",
   "nbconvert_exporter": "python",
   "pygments_lexer": "ipython3",
   "version": "3.10.9"
  }
 },
 "nbformat": 4,
 "nbformat_minor": 5
}
