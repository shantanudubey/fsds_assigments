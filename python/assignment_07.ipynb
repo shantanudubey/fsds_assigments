{
 "cells": [
  {
   "cell_type": "markdown",
   "id": "e122b3e9",
   "metadata": {},
   "source": [
    "# Assignment 7"
   ]
  },
  {
   "cell_type": "markdown",
   "id": "99e44e24",
   "metadata": {},
   "source": [
    "Q.1. Create two int type variables, apply addition, subtraction, division and multiplications\n",
    "and store the results in variables. Then print the data in the following format by calling the\n",
    "variables:\n",
    "First variable is __ & second variable is __.\n",
    "Addition: __ + __ = __\n",
    "Subtraction: __ - __ = __\n",
    "Multiplication: __ * __ = __\n",
    "Division: __ / __ = __"
   ]
  },
  {
   "cell_type": "code",
   "execution_count": 7,
   "id": "f4523f54",
   "metadata": {},
   "outputs": [
    {
     "name": "stdout",
     "output_type": "stream",
     "text": [
      "First variable is 20 & second variable is 10.\n",
      "Addition: 20 + 10 = 30\n",
      "Subtraction: 20 - 10 = 10\n",
      "Multiplication: 20 * 10 = 200\n",
      "Division: 20 / 10 = 2.0\n"
     ]
    }
   ],
   "source": [
    "A1: \n",
    "a = 20\n",
    "b = 10\n",
    "res_add = a + b\n",
    "res_subtract = a - b\n",
    "res_multiply = a * b\n",
    "res_divide = a / b\n",
    "\n",
    "print(f\"First variable is {a} & second variable is {b}.\")\n",
    "print(f\"Addition: {a} + {b} = {res_add}\")\n",
    "print(f\"Subtraction: {a} - {b} = {res_subtract}\")\n",
    "print(f\"Multiplication: {a} * {b} = {res_multiply}\")\n",
    "print(f\"Division: {a} / {b} = {res_divide}\")"
   ]
  },
  {
   "cell_type": "markdown",
   "id": "4336eab9",
   "metadata": {},
   "source": [
    "Q.2. What is the difference between the following operators:\n",
    "(i) ‘/’ & ‘//’\n",
    "(ii) ‘**’ & ‘^’"
   ]
  },
  {
   "cell_type": "markdown",
   "id": "85b0cc78",
   "metadata": {},
   "source": [
    "A2:\n",
    "(i)'/' is the division operator and '//' is the floor-division operator.\n",
    "\n",
    "(ii) ‘**’ & ‘^’ : '**' is the exponentiation opearator and '^' is the bitwise XOR operator\n"
   ]
  },
  {
   "cell_type": "markdown",
   "id": "44d15704",
   "metadata": {},
   "source": [
    "Q.3. List the logical operators."
   ]
  },
  {
   "cell_type": "markdown",
   "id": "6e4cfa8c",
   "metadata": {},
   "source": [
    "A3:\n",
    "Logical operators are and, or, not\n"
   ]
  },
  {
   "cell_type": "markdown",
   "id": "7c33a584",
   "metadata": {},
   "source": [
    "Q.4. Explain right shift operator and left shift operator with examples."
   ]
  },
  {
   "cell_type": "markdown",
   "id": "72245e41",
   "metadata": {},
   "source": [
    "A4:\n",
    "\n",
    "    Right Shift (>>) : Shifts the bits to the right by the number of bits specified.\n",
    "    Each bit shift corresponds to dividing the number by 2.\n",
    "\n",
    "    Left Shift (<<) : Shifts the bits to the left by the number of bits specified.\n",
    "    Each bit shift corresponds to multiplying the number by 2"
   ]
  },
  {
   "cell_type": "code",
   "execution_count": 3,
   "id": "e2ea2e49",
   "metadata": {},
   "outputs": [
    {
     "name": "stdout",
     "output_type": "stream",
     "text": [
      "10 >> 1 :  5\n",
      "10 >> 2 :  2\n",
      "10 << 1 :  20\n",
      "10 << 2 :  40\n"
     ]
    }
   ],
   "source": [
    "#Example\n",
    "a = 10 #1010\n",
    "\n",
    "# right shift >> \n",
    "result = a >> 1\n",
    "print(f\"{a} >> 1 : \", result)\n",
    "result = a >> 2\n",
    "print(f\"{a} >> 2 : \", result)\n",
    "\n",
    "# left shift >> \n",
    "a = 10 #1010\n",
    "result = a << 1\n",
    "print(f\"{a} << 1 : \", result)\n",
    "\n",
    "result = a << 2\n",
    "print(f\"{a} << 2 : \", result)"
   ]
  },
  {
   "cell_type": "markdown",
   "id": "b7c37661",
   "metadata": {},
   "source": [
    "Q.5. Create a list containing int type data of length 15. Then write a code to check if 10 is\n",
    "present in the list or not."
   ]
  },
  {
   "cell_type": "code",
   "execution_count": 9,
   "id": "30b565e5",
   "metadata": {},
   "outputs": [
    {
     "name": "stdout",
     "output_type": "stream",
     "text": [
      "[1, 2, 3, 4, 5, 6, 7, 8, 9, 10, 11, 12, 13, 14, 15]\n",
      "List doesn't contain the integer : 100\n"
     ]
    }
   ],
   "source": [
    "#A5: \n",
    "list_ints = []\n",
    "for i in range(1, 16):\n",
    "    list_ints.append(i)\n",
    "print(list_ints)\n",
    "\n",
    "check_int = 10\n",
    "status = False\n",
    "for i in list_ints:\n",
    "    if i == check_int:\n",
    "        status = True\n",
    "        print(\"List contains the integer :\", check_int)\n",
    "if(not status):\n",
    "    print(\"List doesn't contain the integer :\", check_int)"
   ]
  }
 ],
 "metadata": {
  "kernelspec": {
   "display_name": "Python 3 (ipykernel)",
   "language": "python",
   "name": "python3"
  },
  "language_info": {
   "codemirror_mode": {
    "name": "ipython",
    "version": 3
   },
   "file_extension": ".py",
   "mimetype": "text/x-python",
   "name": "python",
   "nbconvert_exporter": "python",
   "pygments_lexer": "ipython3",
   "version": "3.10.9"
  }
 },
 "nbformat": 4,
 "nbformat_minor": 5
}
