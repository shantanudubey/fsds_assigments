{
 "cells": [
  {
   "cell_type": "markdown",
   "id": "abf42470",
   "metadata": {},
   "source": [
    "1. What does an empty dictionary's code look like?"
   ]
  },
  {
   "cell_type": "code",
   "execution_count": null,
   "id": "eb650cd0",
   "metadata": {},
   "outputs": [],
   "source": [
    "#A1: \n",
    "dict_empty = {}"
   ]
  },
  {
   "cell_type": "markdown",
   "id": "1226d561",
   "metadata": {},
   "source": [
    "2. What is the value of a dictionary value with the key 'foo' and the value 42?"
   ]
  },
  {
   "cell_type": "code",
   "execution_count": 1,
   "id": "bb992fd5",
   "metadata": {},
   "outputs": [
    {
     "name": "stdout",
     "output_type": "stream",
     "text": [
      "42\n"
     ]
    }
   ],
   "source": [
    "#A2: \n",
    "dict_01 = {\"foo\" : 42}\n",
    "print(dict_01[\"foo\"])"
   ]
  },
  {
   "cell_type": "markdown",
   "id": "f0d10433",
   "metadata": {},
   "source": [
    "3. What is the most significant distinction between a dictionary and a list?"
   ]
  },
  {
   "cell_type": "markdown",
   "id": "98b61df5",
   "metadata": {},
   "source": [
    "A3: \n",
    "A list is a collection of items while dictionary is a collection of key-value pairs."
   ]
  },
  {
   "cell_type": "markdown",
   "id": "8dbc146c",
   "metadata": {},
   "source": [
    "4. What happens if you try to access spam['foo'] if spam is {'bar': 100}?"
   ]
  },
  {
   "cell_type": "code",
   "execution_count": 10,
   "id": "39556d79",
   "metadata": {},
   "outputs": [
    {
     "data": {
      "text/plain": [
       "'\\nspam = {\"bar\" : 100}\\nprint(spam[\"foo\"])\\n'"
      ]
     },
     "execution_count": 10,
     "metadata": {},
     "output_type": "execute_result"
    }
   ],
   "source": [
    "#A4: This generates a KeyError as the \"foo\" doesn't exist\n",
    "\n",
    "#spam = {\"bar\" : 100}\n",
    "#print(spam[\"foo\"])"
   ]
  },
  {
   "cell_type": "markdown",
   "id": "533c691f",
   "metadata": {},
   "source": [
    "5. If a dictionary is stored in spam, what is the difference between the expressions 'cat' in spam and 'cat' in spam.keys()?"
   ]
  },
  {
   "cell_type": "code",
   "execution_count": 17,
   "id": "9ce75497",
   "metadata": {},
   "outputs": [
    {
     "name": "stdout",
     "output_type": "stream",
     "text": [
      "True\n",
      "True\n",
      "dict_keys(['cat', 'dog', 'horse'])\n"
     ]
    }
   ],
   "source": [
    "#A5: \n",
    "spam = {\"cat\" : 23, \"dog\" : 22, \"horse\" : 4}\n",
    "print(\"cat\" in spam) # returns True because \"cat\" is a key in the dictionary spam\n",
    "print(\"cat\" in spam.keys()) # retuns True as \"cat\" is an item in the list returned by spam.keys()\n",
    "print(spam.keys())"
   ]
  },
  {
   "cell_type": "markdown",
   "id": "c0f22965",
   "metadata": {},
   "source": [
    "6. If a dictionary is stored in spam, what is the difference between the expressions 'cat' in spam and 'cat' in spam.values()?"
   ]
  },
  {
   "cell_type": "code",
   "execution_count": 19,
   "id": "0e67dc49",
   "metadata": {},
   "outputs": [
    {
     "name": "stdout",
     "output_type": "stream",
     "text": [
      "True\n",
      "False\n",
      "dict_values([23, 22, 4])\n"
     ]
    }
   ],
   "source": [
    "#A6: \n",
    "spam = {\"cat\" : 23, \"dog\" : 22, \"horse\" : 4}\n",
    "print(\"cat\" in spam) # returns True because \"cat\" is a key in the dictionary spam\n",
    "print(\"cat\" in spam.values()) # retuns False as \"cat\" is not an item in the list returned by spam.values()\n",
    "print(spam.values())"
   ]
  },
  {
   "cell_type": "markdown",
   "id": "6d96683f",
   "metadata": {},
   "source": [
    "7. What is a shortcut for the following code?\n",
    "if 'color' not in spam: spam['color'] = 'black'"
   ]
  },
  {
   "cell_type": "code",
   "execution_count": 24,
   "id": "0076c754",
   "metadata": {},
   "outputs": [],
   "source": [
    "#A7: "
   ]
  },
  {
   "cell_type": "markdown",
   "id": "650f4a3c",
   "metadata": {},
   "source": [
    "8. How do you \"pretty print\" dictionary values using which module and function?"
   ]
  },
  {
   "cell_type": "code",
   "execution_count": 32,
   "id": "fdfbf838",
   "metadata": {},
   "outputs": [
    {
     "name": "stdout",
     "output_type": "stream",
     "text": [
      "{'emp_001': {'age': 38, 'city': 'Tuscany', 'name': 'Diane', 'sno': 'DL_001'},\n",
      " 'emp_002': {'age': 24, 'city': 'Cattolica', 'name': 'Marco', 'sno': 'DL_002'},\n",
      " 'emp_003': {'age': 34, 'city': 'Mugello', 'name': 'Marina', 'sno': 'DL_003'},\n",
      " 'emp_004': {'age': 44, 'city': 'Urbino', 'name': 'Valentino', 'sno': 'DL_004'},\n",
      " 'emp_005': {'age': 33, 'city': 'Castello', 'name': 'Monica', 'sno': 'DL_005'},\n",
      " 'emp_006': {'age': 27, 'city': 'Rome', 'name': 'Laura', 'sno': 'DL_006'}}\n"
     ]
    }
   ],
   "source": [
    "#A8: \n",
    "import pprint\n",
    "\n",
    "dict_temp = \\\n",
    "{\n",
    "    \"emp_001\" : {\"sno\":\"DL_001\", \"name\":\"Diane\", \"age\":38, \"city\":\"Tuscany\"}, \n",
    "    \"emp_002\" : {\"sno\":\"DL_002\", \"name\":\"Marco\", \"age\":24, \"city\":\"Cattolica\"}, \n",
    "    \"emp_003\" : {\"sno\":\"DL_003\", \"name\":\"Marina\", \"age\":34, \"city\":\"Mugello\"}, \n",
    "    \"emp_004\" : {\"sno\":\"DL_004\", \"name\":\"Valentino\", \"age\":44, \"city\":\"Urbino\"}, \n",
    "    \"emp_005\" : {\"sno\":\"DL_005\", \"name\":\"Monica\", \"age\":33, \"city\":\"Castello\"}, \n",
    "    \"emp_006\" : {\"sno\":\"DL_006\", \"name\":\"Laura\", \"age\":27, \"city\":\"Rome\"}\n",
    "}\n",
    "\n",
    "pprint.pprint(dict_temp)\n"
   ]
  }
 ],
 "metadata": {
  "kernelspec": {
   "display_name": "Python 3 (ipykernel)",
   "language": "python",
   "name": "python3"
  },
  "language_info": {
   "codemirror_mode": {
    "name": "ipython",
    "version": 3
   },
   "file_extension": ".py",
   "mimetype": "text/x-python",
   "name": "python",
   "nbconvert_exporter": "python",
   "pygments_lexer": "ipython3",
   "version": "3.10.9"
  }
 },
 "nbformat": 4,
 "nbformat_minor": 5
}
