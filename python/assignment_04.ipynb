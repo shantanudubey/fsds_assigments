{
 "cells": [
  {
   "cell_type": "markdown",
   "id": "fb6a9f1e",
   "metadata": {},
   "source": [
    "1. What exactly is []?"
   ]
  },
  {
   "cell_type": "markdown",
   "id": "0f5028dc",
   "metadata": {},
   "source": [
    "A1: An empty list."
   ]
  },
  {
   "cell_type": "markdown",
   "id": "26c886ce",
   "metadata": {},
   "source": [
    "2. In a list of values stored in a variable called spam, how would you assign the value 'hello' as the third value? (Assume [2, 4, 6, 8, 10] are in spam.)\n",
    "Let's pretend the spam includes the list ['a', 'b', 'c', 'd'] for the next three queries."
   ]
  },
  {
   "cell_type": "code",
   "execution_count": 1,
   "id": "8c18ab31",
   "metadata": {},
   "outputs": [
    {
     "name": "stdout",
     "output_type": "stream",
     "text": [
      "[2, 4, 'hello', 8, 10]\n"
     ]
    }
   ],
   "source": [
    "#A2: \n",
    "spam = [2, 4, 6, 8, 10]\n",
    "spam[2] = \"hello\"\n",
    "print(spam)"
   ]
  },
  {
   "cell_type": "markdown",
   "id": "d02dc6a5",
   "metadata": {},
   "source": [
    "3. What is the value of spam[int(int('3' * 2) / 11)]?"
   ]
  },
  {
   "cell_type": "code",
   "execution_count": 7,
   "id": "1ca6c0ee",
   "metadata": {},
   "outputs": [
    {
     "name": "stdout",
     "output_type": "stream",
     "text": [
      "d\n"
     ]
    }
   ],
   "source": [
    "#A3: \n",
    "spam = ['a', 'b', 'c', 'd']\n",
    "print(spam[(int(int('3' * 2) / 11))]) #Is equivalent to spam[3] which is 'd'"
   ]
  },
  {
   "cell_type": "markdown",
   "id": "86b015bc",
   "metadata": {},
   "source": [
    "4. What is the value of spam[-1]?"
   ]
  },
  {
   "cell_type": "markdown",
   "id": "5162b107",
   "metadata": {},
   "source": [
    "A4 : \n",
    "spam[-1] returns 'd' as the negative indices start with -1 and from the far-end of the list."
   ]
  },
  {
   "cell_type": "code",
   "execution_count": 2,
   "id": "391b8b21",
   "metadata": {},
   "outputs": [
    {
     "data": {
      "text/plain": [
       "'d'"
      ]
     },
     "execution_count": 2,
     "metadata": {},
     "output_type": "execute_result"
    }
   ],
   "source": [
    "#A4 : \n",
    "spam = ['a', 'b', 'c', 'd']\n",
    "spam[-1]"
   ]
  },
  {
   "cell_type": "markdown",
   "id": "62ac5348",
   "metadata": {},
   "source": [
    "5. What is the value of spam[:2]?\n",
    "Let's pretend bacon has the list [3.14, 'cat,' 11, 'cat,' True] for the next three questions.\n"
   ]
  },
  {
   "cell_type": "code",
   "execution_count": 17,
   "id": "80907fea",
   "metadata": {},
   "outputs": [
    {
     "name": "stdout",
     "output_type": "stream",
     "text": [
      "['a', 'b']\n"
     ]
    }
   ],
   "source": [
    "#A5: \n",
    "print(spam[:2]) #returns ['a', 'b'] as spam[:2] = spam[0:2] which returns 2 items starting from 0th position"
   ]
  },
  {
   "cell_type": "markdown",
   "id": "66463abb",
   "metadata": {},
   "source": [
    "6. What is the value of bacon.index('cat')?"
   ]
  },
  {
   "cell_type": "code",
   "execution_count": 20,
   "id": "f998b2c8",
   "metadata": {},
   "outputs": [
    {
     "name": "stdout",
     "output_type": "stream",
     "text": [
      "1\n"
     ]
    }
   ],
   "source": [
    "#A6: \n",
    "bacon = [3.14, \"cat\", 11, \"cat\", True]\n",
    "\n",
    "print(bacon.index(\"cat\")) #returns 1 as  the index of cat is 1\n"
   ]
  },
  {
   "cell_type": "markdown",
   "id": "64ffb69e",
   "metadata": {},
   "source": [
    "7. How does bacon.append(99) change the look of the list value in bacon?"
   ]
  },
  {
   "cell_type": "code",
   "execution_count": 21,
   "id": "d350f159",
   "metadata": {},
   "outputs": [
    {
     "name": "stdout",
     "output_type": "stream",
     "text": [
      "[3.14, 'cat', 11, 'cat', True, 99]\n"
     ]
    }
   ],
   "source": [
    "#A7:\n",
    "bacon.append(99) #adds 99 at the end of the list\n",
    "print(bacon)"
   ]
  },
  {
   "cell_type": "markdown",
   "id": "27a0e71e",
   "metadata": {},
   "source": [
    "8. How does bacon.remove('cat') change the look of the list in bacon?"
   ]
  },
  {
   "cell_type": "code",
   "execution_count": 23,
   "id": "e4c2f414",
   "metadata": {},
   "outputs": [
    {
     "name": "stdout",
     "output_type": "stream",
     "text": [
      "[3.14, 11, 'cat', True, 99]\n"
     ]
    }
   ],
   "source": [
    "#A8:\n",
    "\n",
    "bacon.remove(\"cat\") #removes the first occurence of the item \"cat\" from the list and exits\n",
    "print(bacon)"
   ]
  },
  {
   "cell_type": "markdown",
   "id": "877743b8",
   "metadata": {},
   "source": [
    "9. What are the list concatenation and list replication operators?\n"
   ]
  },
  {
   "cell_type": "code",
   "execution_count": 33,
   "id": "2c575cde",
   "metadata": {},
   "outputs": [
    {
     "name": "stdout",
     "output_type": "stream",
     "text": [
      "[245, 678, 'foo', 'bar']\n",
      "[245, 678, 'foo', 'bar']\n",
      "Modified list_02 : [245, 'TEST', 'foo', 'bar']\n",
      "Original list is unaltered : [245, 678, 'foo', 'bar']\n"
     ]
    }
   ],
   "source": [
    "#A9:\n",
    "list_base_s = [\"foo\", \"bar\"]\n",
    "list_base_i = [245, 678]\n",
    "\n",
    "#Concatenation: \n",
    "list_01 = list_base_i + list_base_s\n",
    "print(list_01)\n",
    "\n",
    "#Replication\n",
    "list_02 = list_01.copy()\n",
    "print(list_02) #list_02 has replicated list_01\n",
    "\n",
    "list_02[1] = \"TEST\" #if we modify any item in list_02, list_01 isn't modfified because it has been copied\n",
    "print(\"Modified list_02 :\", list_02)\n",
    "print(\"Original list is unaltered :\", list_01)\n",
    "\n"
   ]
  },
  {
   "cell_type": "markdown",
   "id": "ccf6a6b9",
   "metadata": {},
   "source": [
    "10. What is difference between the list methods append() and insert()?"
   ]
  },
  {
   "cell_type": "code",
   "execution_count": 37,
   "id": "e55d5659",
   "metadata": {},
   "outputs": [
    {
     "name": "stdout",
     "output_type": "stream",
     "text": [
      "Original list : ['item_01', 'item_02', 'item_03']\n",
      "Post append() : ['item_01', 'item_02', 'item_03', 'item_append']\n",
      "Post insert() : ['item_01', 'item_insert', 'item_02', 'item_03', 'item_append']\n"
     ]
    }
   ],
   "source": [
    "'''\n",
    "A10:\n",
    "    append() : adds an item to the end of the list\n",
    "    insert() : adds an item to the specified index position\n",
    "'''\n",
    "\n",
    "list_temp = [\"item_01\", \"item_02\", \"item_03\"]\n",
    "print(\"Original list :\", list_temp)\n",
    "list_temp.append(\"item_append\")\n",
    "\n",
    "print(\"Post append() :\", list_temp)\n",
    "list_temp.insert(1, \"item_insert\")\n",
    "print(\"Post insert() :\", list_temp)"
   ]
  },
  {
   "cell_type": "markdown",
   "id": "329d2c34",
   "metadata": {},
   "source": [
    "11. What are the two methods for removing items from a list?"
   ]
  },
  {
   "cell_type": "code",
   "execution_count": 8,
   "id": "4a480917",
   "metadata": {},
   "outputs": [
    {
     "name": "stdout",
     "output_type": "stream",
     "text": [
      "Original list : ['item_01', 'item_02', 'item_03', 'item_04', 'item_05', 'item_06', 'item_06', 'item_06', 'item_06']\n",
      "Popped item 'item_06' : ['item_01', 'item_02', 'item_03', 'item_04', 'item_05', 'item_06', 'item_06', 'item_06']\n",
      "Removed 'item_02' :  ['item_01', 'item_03', 'item_04', 'item_05', 'item_06', 'item_06', 'item_06']\n"
     ]
    }
   ],
   "source": [
    "'''\n",
    "A11:\n",
    "The two methods to remove items from a list are : \n",
    "    pop() : removes an item from the end of the list\n",
    "    remove() : removes thefirst occurence of the specified item\n",
    "'''\n",
    "list_temp = [\"item_01\", \"item_02\", \"item_03\", \"item_04\", \"item_05\", \"item_06\", \"item_06\", \"item_06\", \"item_06\", ]\n",
    "print(\"Original list :\", list_temp)\n",
    "item_popped = list_temp.pop()\n",
    "print(f\"Popped item '{item_popped}' :\", list_temp)\n",
    "\n",
    "item_to_remove = \"item_02\"\n",
    "list_temp.remove(item_to_remove)\n",
    "print(f\"Removed '{item_to_remove}' : \",list_temp)\n"
   ]
  },
  {
   "cell_type": "markdown",
   "id": "1566f49f",
   "metadata": {},
   "source": [
    "12. Describe how list values and string values are identical."
   ]
  },
  {
   "cell_type": "markdown",
   "id": "a8acd289",
   "metadata": {},
   "source": [
    "A12:\n",
    "- String is a sequence of characters while list is a sequence of items of different data types.\n",
    "- Both support retrieval, indexing and slicing operations."
   ]
  },
  {
   "cell_type": "markdown",
   "id": "3be1371e",
   "metadata": {},
   "source": [
    "13. What's the difference between tuples and lists?"
   ]
  },
  {
   "cell_type": "markdown",
   "id": "14afec1d",
   "metadata": {},
   "source": [
    "A13:\n",
    "Tuples are immutable while lists are mutable."
   ]
  },
  {
   "cell_type": "markdown",
   "id": "7e9eb990",
   "metadata": {},
   "source": [
    "14. How do you type a tuple value that only contains the integer 42?"
   ]
  },
  {
   "cell_type": "code",
   "execution_count": 9,
   "id": "f8b1120f",
   "metadata": {},
   "outputs": [
    {
     "name": "stdout",
     "output_type": "stream",
     "text": [
      "42\n"
     ]
    }
   ],
   "source": [
    "#A14:\n",
    "tuple_single_int = (42)\n",
    "print(tuple_single_int)"
   ]
  },
  {
   "cell_type": "markdown",
   "id": "bf66a8f6",
   "metadata": {},
   "source": [
    "15. How do you get a list value's tuple form? How do you get a tuple value's list form?"
   ]
  },
  {
   "cell_type": "code",
   "execution_count": 13,
   "id": "8a2d647a",
   "metadata": {},
   "outputs": [
    {
     "name": "stdout",
     "output_type": "stream",
     "text": [
      "(1, 2, 4, 8, 16, 32)\n",
      "[1, 2, 4, 8, 16, 32]\n"
     ]
    }
   ],
   "source": [
    "#A15:\n",
    "#By typecasting a list to tuple and vice-versa\n",
    "\n",
    "#list to tuple\n",
    "list_temp = [1,2,4,8,16,32]\n",
    "tuple_temp  = tuple(list_temp)\n",
    "print(tuple_temp)\n",
    "\n",
    "#tuple to list\n",
    "list_temp = list(tuple_temp)\n",
    "print(list_temp)"
   ]
  },
  {
   "cell_type": "markdown",
   "id": "2f9e58f9",
   "metadata": {},
   "source": [
    "16. Variables that \"contain\" list values are not necessarily lists themselves. Instead, what do they\n",
    "contain?"
   ]
  },
  {
   "cell_type": "code",
   "execution_count": 19,
   "id": "64c9f757",
   "metadata": {},
   "outputs": [
    {
     "name": "stdout",
     "output_type": "stream",
     "text": [
      "[11, 22, 33, 44, 55, 66]\n"
     ]
    }
   ],
   "source": [
    "#A16:\n",
    "#They contain reference to the memory location/address of the list.\n",
    "\n",
    "list_test = [11, 22, 33, 44, 55, 66]\n",
    "list_temp = list_test\n",
    "del list_test\n",
    "print(list_temp)\n",
    "\n",
    "'''\n",
    "The below line causes a NameError since list_test has been deleted.\n",
    "#But since list_temp contains the memory address of '[11, 22, 33, 44, 55, 66]', we can still access it via list_temp\n",
    "'''\n",
    "#print(list_test)\n"
   ]
  },
  {
   "cell_type": "markdown",
   "id": "69ff76f2",
   "metadata": {},
   "source": [
    "17. How do you distinguish between copy.copy() and copy.deepcopy()?"
   ]
  },
  {
   "cell_type": "markdown",
   "id": "fd485604",
   "metadata": {},
   "source": [
    "A17: \n",
    "During usage we use deepcopy() only when we need to modify the copied data structure without updating the original data source. Similarily copy() is used when we want the modifications in the copied data structure to update the original data source."
   ]
  }
 ],
 "metadata": {
  "kernelspec": {
   "display_name": "Python 3 (ipykernel)",
   "language": "python",
   "name": "python3"
  },
  "language_info": {
   "codemirror_mode": {
    "name": "ipython",
    "version": 3
   },
   "file_extension": ".py",
   "mimetype": "text/x-python",
   "name": "python",
   "nbconvert_exporter": "python",
   "pygments_lexer": "ipython3",
   "version": "3.10.9"
  }
 },
 "nbformat": 4,
 "nbformat_minor": 5
}
