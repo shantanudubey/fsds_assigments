{
 "cells": [
  {
   "cell_type": "markdown",
   "id": "d4ef1932",
   "metadata": {},
   "source": [
    "# Assignment : 1st July : OOPS"
   ]
  },
  {
   "cell_type": "markdown",
   "id": "4b7f9e62",
   "metadata": {},
   "source": [
    "1. What is the primary goal of Object-Oriented Programming (OOP)?"
   ]
  },
  {
   "cell_type": "markdown",
   "id": "2644fed1",
   "metadata": {},
   "source": [
    "A1: Primary goal of OOP is to provide an easy to understand structure to the code mimicking real-life and promoting code-reuse."
   ]
  },
  {
   "cell_type": "markdown",
   "id": "6b0c1330",
   "metadata": {},
   "source": [
    "2. What is an object in Python?"
   ]
  },
  {
   "cell_type": "markdown",
   "id": "1b5c1647",
   "metadata": {},
   "source": [
    "A2: An object is an instance of the class it represents, in memory."
   ]
  },
  {
   "cell_type": "markdown",
   "id": "e1f07045",
   "metadata": {},
   "source": [
    "3. What is a class in Python?"
   ]
  },
  {
   "cell_type": "markdown",
   "id": "41965096",
   "metadata": {},
   "source": [
    "A3: A class is a collection of attributes/data and methods/functions that operate/modify them."
   ]
  },
  {
   "cell_type": "markdown",
   "id": "31d4342f",
   "metadata": {},
   "source": [
    "4. What are attributes and methods in a class?"
   ]
  },
  {
   "cell_type": "markdown",
   "id": "a565c389",
   "metadata": {},
   "source": [
    "A4: \n",
    "- Attributes : are the variables/literals defined in the class which contain the data\n",
    "- Methods : are the functions which operate on those variables and return results"
   ]
  },
  {
   "cell_type": "markdown",
   "id": "4e6b5aa0",
   "metadata": {},
   "source": [
    "5. What is the difference between class variables and instance variables in Python?"
   ]
  },
  {
   "cell_type": "markdown",
   "id": "08a3c5dd",
   "metadata": {},
   "source": [
    "A5: \n",
    "- Class variables : are defined outside of the constructor and shared among all instances of the class\n",
    "- Instance variables : are defined in the constructor and are unique to each instance of the class"
   ]
  },
  {
   "cell_type": "markdown",
   "id": "d7600cc1",
   "metadata": {},
   "source": [
    "6. What is the purpose of the self parameter in Python class methods?"
   ]
  },
  {
   "cell_type": "markdown",
   "id": "2873cdae",
   "metadata": {},
   "source": [
    "A6: The self parameter referes to the current instance of the class."
   ]
  },
  {
   "cell_type": "markdown",
   "id": "bf0b3a52",
   "metadata": {},
   "source": [
    "7. For a library management system, you have to design the \"Book\" class with OOP principles in mind. The “Book” class will have following attributes:\n",
    "    a. title: Represents the title of the book.\n",
    "    b. author: Represents the author(s) of the book.\n",
    "    c. isbn: Represents the ISBN (International Standard Book Number) of the book.\n",
    "    d. publication_year: Represents the year of publication of the book.\n",
    "    e. available_copies: Represents the number of copies available for checkout.\n",
    "    The class will also include the following methods:\n",
    "    a. check_out(self): Decrements the available copies by one if there are copies\n",
    "    available for checkout.\n",
    "    b. return_book(self): Increments the available copies by one when a book is\n",
    "    returned.\n",
    "    c. display_book_info(self): Displays the information about the book, including its\n",
    "    attributes and the number of available copies."
   ]
  },
  {
   "cell_type": "code",
   "execution_count": 58,
   "id": "909f99d2",
   "metadata": {},
   "outputs": [
    {
     "name": "stdout",
     "output_type": "stream",
     "text": [
      "Check out succesful for ISBN : ISBN9998877776665 inventory : 2\n",
      "Check out succesful for ISBN : ISBN9998877776665 inventory : 1\n",
      "Check out succesful for ISBN : ISBN9998877776665 inventory : 0\n",
      "Sorry, no copies available for ISBN : ISBN9998877776665\n",
      "Return succesful for ISBN : ISBN9998877776665 inventory : 1\n",
      "Return succesful for ISBN : ISBN9998877776665 inventory : 2\n",
      "Check out succesful for ISBN : ISBN9998877776665 inventory : 1\n",
      "Title: Python 101, Authors: ['chat_gpt', 'bard'], ISBN: ISBN9998877776665, Year: 2023, Inventory: 1\n"
     ]
    }
   ],
   "source": [
    "#A7:\n",
    "\n",
    "class Book:\n",
    "    def __init__(self, title, authors, isbn, publication_year, available_copies=0):\n",
    "        self.title = title\n",
    "        self.authors = authors\n",
    "        self.isbn = isbn\n",
    "        self.publication_year = publication_year\n",
    "        self.available_copies = available_copies\n",
    "        \n",
    "    def check_out(self):\n",
    "        if(self.available_copies <= 0):\n",
    "            print(\"Sorry, no copies available for ISBN :\", self.isbn)\n",
    "            return False\n",
    "        \n",
    "        self.available_copies -= 1\n",
    "        print(\"Check out succesful for ISBN :\", self.isbn, \"inventory :\", self.available_copies)\n",
    "        return True\n",
    "        \n",
    "    def return_book(self):\n",
    "        self.available_copies += 1\n",
    "        print(\"Return succesful for ISBN :\", self.isbn, \"inventory :\", self.available_copies)\n",
    "        return True\n",
    "    \n",
    "    def display_book_info(self):\n",
    "        print(f\"Title: {self.title}, Authors: {self.authors}, ISBN: {self.isbn}, Year: {self.publication_year}, Inventory: {self.available_copies}\")\n",
    "        \n",
    "        \n",
    "book_01 = Book(\"Python 101\", [\"chat_gpt\", \"bard\"], \"ISBN9998877776665\", 2023, 3)\n",
    "book_01.check_out()\n",
    "book_01.check_out()\n",
    "book_01.check_out()\n",
    "book_01.check_out()\n",
    "book_01.return_book()\n",
    "book_01.return_book()\n",
    "book_01.check_out()\n",
    "book_01.display_book_info()"
   ]
  },
  {
   "cell_type": "markdown",
   "id": "83c51fba",
   "metadata": {},
   "source": [
    "8. For a ticket booking system, you have to design the \"Ticket\" class with OOP principles in mind. The “Ticket” class should have the following attributes:\n",
    "    a. ticket_id: Represents the unique identifier for the ticket.\n",
    "    b. event_name: Represents the name of the event.\n",
    "    c. event_date: Represents the date of the event.\n",
    "    d. venue: Represents the venue of the event.\n",
    "    e. seat_number: Represents the seat number associated with the ticket.\n",
    "    f. price: Represents the price of the ticket.\n",
    "    g. is_reserved: Represents the reservation status of the ticket.\n",
    "    The class also includes the following methods:\n",
    "    a. reserve_ticket(self): Marks the ticket as reserved if it is not already reserved.\n",
    "    b. cancel_reservation(self): Cancels the reservation of the ticket if it is already\n",
    "    reserved.\n",
    "    c. display_ticket_info(self): Displays the information about the ticket, including its\n",
    "    attributes and reservation status."
   ]
  },
  {
   "cell_type": "code",
   "execution_count": 59,
   "id": "422cce99",
   "metadata": {},
   "outputs": [
    {
     "name": "stdout",
     "output_type": "stream",
     "text": [
      "Ticket Id:ETKT2023070712450098, Event:Py Conf, On:07-07-2013, At:Py Grounds, Seat:D4-46, Costs:2199, Allocated:False\n",
      "Ticket reservation successful : ETKT2023070712450098\n",
      "Ticket cancellation successful : ETKT2023070712450098\n",
      "Ticket Id:ETKT2023070712450098, Event:Py Conf, On:07-07-2013, At:Py Grounds, Seat:D4-46, Costs:2199, Allocated:False\n"
     ]
    }
   ],
   "source": [
    "#A8: \n",
    "class Ticket:\n",
    "    def __init__(self, ticket_id, event_name, event_date, venue, seat_number, price, is_reserved):\n",
    "        self.ticket_id = ticket_id\n",
    "        self.event_name = event_name\n",
    "        self.event_date = event_date\n",
    "        self.venue = venue\n",
    "        self.seat_number = seat_number\n",
    "        self.price = price\n",
    "        self.is_reserved = is_reserved\n",
    "        \n",
    "    def reserve_ticket(self):\n",
    "        if(self.is_reserved):\n",
    "            print(\"Ticket is already reserved :\", self.ticket_id)\n",
    "            return False\n",
    "        \n",
    "        self.is_reserved = True\n",
    "        print(\"Ticket reservation successful :\", self.ticket_id)\n",
    "        return True\n",
    "        \n",
    "    def cancel_reservation(self):\n",
    "        if(not self.is_reserved):\n",
    "            print(\"Ticket is not reserved :\", self.ticket_id)\n",
    "            return False\n",
    "        \n",
    "        self.is_reserved = False\n",
    "        print(\"Ticket cancellation successful :\", self.ticket_id)\n",
    "        return True\n",
    "    \n",
    "    def display_ticket_info(self):\n",
    "        print(f\"Ticket Id:{self.ticket_id}, Event:{self.event_name}, On:{self.event_date}, At:{self.venue}, Seat:{self.seat_number}, Costs:{self.price}, Allocated:{self.is_reserved}\")\n",
    "        \n",
    "        \n",
    "ticket_01 = Ticket(\"ETKT2023070712450098\", \"Py Conf\", \"07-07-2013\", \"Py Grounds\", \"D4-46\", 2199, False)\n",
    "ticket_01.display_ticket_info()\n",
    "ticket_01.reserve_ticket()\n",
    "ticket_01.cancel_reservation()\n",
    "ticket_01.display_ticket_info()        "
   ]
  },
  {
   "cell_type": "markdown",
   "id": "b08b0b34",
   "metadata": {},
   "source": [
    "9. You are creating a shopping cart for an e-commerce website. Using OOP to model the \"ShoppingCart\" functionality the class should contain following attributes and methods:\n",
    "    a. items: Represents the list of items in the shopping cart.\n",
    "    \n",
    "    The class also includes the following methods:\n",
    "    a. add_item(self, item): Adds an item to the shopping cart by appending it to the\n",
    "    list of items.\n",
    "    b. remove_item(self, item): Removes an item from the shopping cart if it exists in\n",
    "    the list.\n",
    "    c. view_cart(self): Displays the items currently present in the shopping cart.\n",
    "    d. clear_cart(self): Clears all items from the shopping cart by reassigning an\n",
    "    empty list to the items attribute."
   ]
  },
  {
   "cell_type": "code",
   "execution_count": 60,
   "id": "4091eeb6",
   "metadata": {},
   "outputs": [
    {
     "name": "stdout",
     "output_type": "stream",
     "text": [
      "Cart : \n",
      "item_01\n",
      "item_02\n",
      "item_03\n",
      "item_04\n",
      "item_05\n",
      "Removing : item_02\n",
      "Removing : item_03\n",
      "Cart : \n",
      "item_01\n",
      "item_04\n",
      "item_05\n",
      "Added: item_22\n",
      "Added: item_11\n",
      "Cart : \n",
      "item_01\n",
      "item_04\n",
      "item_05\n",
      "item_22\n",
      "item_11\n",
      "Cart is cleared.\n",
      "Cart : \n"
     ]
    }
   ],
   "source": [
    "#A9: \n",
    "class ShoppingCart:\n",
    "    def __init__(self, items):\n",
    "        self.items = items\n",
    "        \n",
    "    def add_item(self, item):\n",
    "        if not item:\n",
    "            print(\"Error: add_item: Invalid item:\", item)\n",
    "            return False\n",
    "        \n",
    "        self.items.append(item)\n",
    "        print(\"Added:\", item)\n",
    "        return True\n",
    "    \n",
    "    def remove_item(self, item):\n",
    "        if not item:\n",
    "            print(\"Error: remove_item: Invalid item:\", item)\n",
    "            return False\n",
    "        \n",
    "        print(\"Removing :\", item)\n",
    "        self.items.remove(item)\n",
    "        return True\n",
    "        \n",
    "    def view_cart(self):\n",
    "        print(\"Cart : \")\n",
    "        for i in self.items:\n",
    "            print(i)\n",
    "            \n",
    "    def clear_cart(self):\n",
    "        self.items = []\n",
    "        print(\"Cart is cleared.\")\n",
    "        \n",
    "cart_01 = ShoppingCart([\"item_01\", \"item_02\", \"item_03\", \"item_04\", \"item_05\"])\n",
    "cart_01.view_cart()\n",
    "cart_01.remove_item(\"item_02\")\n",
    "cart_01.remove_item(\"item_03\")\n",
    "cart_01.view_cart()\n",
    "cart_01.add_item(\"item_22\")\n",
    "cart_01.add_item(\"item_11\")\n",
    "cart_01.view_cart()\n",
    "cart_01.clear_cart()\n",
    "cart_01.view_cart()"
   ]
  },
  {
   "cell_type": "markdown",
   "id": "23df4539",
   "metadata": {},
   "source": [
    "10. Imagine a school management system. You have to design the \"Student\" class using OOP concepts.The “Student” class has the following attributes:\n",
    "    a. name: Represents the name of the student.\n",
    "    b. age: Represents the age of the student.\n",
    "    c. grade: Represents the grade or class of the student.\n",
    "    d. student_id: Represents the unique identifier for the student.\n",
    "    e. attendance: Represents the attendance record of the student.\n",
    "    The class should also include the following methods:\n",
    "    a. update_attendance(self, date, status): Updates the attendance record of the\n",
    "    student for a given date with the provided status (e.g., present or absent).\n",
    "    b. get_attendance(self): Returns the attendance record of the student.\n",
    "    c. get_average_attendance(self): Calculates and returns the average\n",
    "    attendance percentage of the student based on their attendance record."
   ]
  },
  {
   "cell_type": "code",
   "execution_count": 61,
   "id": "073ce863",
   "metadata": {},
   "outputs": [
    {
     "name": "stdout",
     "output_type": "stream",
     "text": [
      "Peter, 10, 5B, SDR20180000223, {'20230701': True, '20230702': False, '20230703': True}\n",
      "Attendance updated : 20230704 True\n",
      "Attendance updated : 20230705 False\n",
      "Attendance Record : {'20230701': True, '20230702': False, '20230703': True, '20230704': True, '20230705': False}\n",
      "Average attendance is : 60.0\n"
     ]
    }
   ],
   "source": [
    "#A10: \n",
    "class Student:\n",
    "    def __init__(self, name, age, grade, student_id, attendance):\n",
    "        self.name = name\n",
    "        self.age = age\n",
    "        self.grade  = grade\n",
    "        self.student_id = student_id\n",
    "        self.attendance = attendance\n",
    "        \n",
    "    def update_attendance(self, date, status):\n",
    "        if not date:\n",
    "            print(\"update_attendance : Invalid date :\", date)\n",
    "            return False\n",
    "            \n",
    "        self.attendance[date] = status\n",
    "        print(\"Attendance updated :\", date, status)\n",
    "        return True\n",
    "    \n",
    "    def get_attendance(self):\n",
    "        return self.attendance\n",
    "    \n",
    "    def get_average_attendance(self):\n",
    "        count_present = 0\n",
    "        for i in self.attendance:\n",
    "            if self.attendance[i]:\n",
    "                count_present += 1\n",
    "                \n",
    "        return (count_present/len(self.attendance)) * 100\n",
    "    \n",
    "    def display_info(self):\n",
    "        print(f\"{self.name}, {self.age}, {self.grade}, {self.student_id}, {self.attendance}\")\n",
    "    \n",
    "    \n",
    "student_01 = Student(\"Peter\", 10, \"5B\", \"SDR20180000223\", {\"20230701\":True, \"20230702\":False, \"20230703\":True})\n",
    "student_01.display_info()\n",
    "student_01.update_attendance(\"20230704\", True)\n",
    "student_01.update_attendance(\"20230705\", False)\n",
    "att_01 = student_01.get_attendance()\n",
    "print(\"Attendance Record :\", att_01)\n",
    "print(\"Average attendance is :\", student_01.get_average_attendance())"
   ]
  }
 ],
 "metadata": {
  "kernelspec": {
   "display_name": "Python 3 (ipykernel)",
   "language": "python",
   "name": "python3"
  },
  "language_info": {
   "codemirror_mode": {
    "name": "ipython",
    "version": 3
   },
   "file_extension": ".py",
   "mimetype": "text/x-python",
   "name": "python",
   "nbconvert_exporter": "python",
   "pygments_lexer": "ipython3",
   "version": "3.10.9"
  }
 },
 "nbformat": 4,
 "nbformat_minor": 5
}
