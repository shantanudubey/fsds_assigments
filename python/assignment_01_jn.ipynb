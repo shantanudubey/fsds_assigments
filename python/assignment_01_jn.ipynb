{
 "cells": [
  {
   "cell_type": "markdown",
   "id": "93feacc5",
   "metadata": {},
   "source": [
    "1. In the below elements which of them are values or an expression? eg:- values can be integer or string and expressions will be mathematical operators.\n",
    "\n",
    "Answer: \n",
    "Values: 'hello', -87.8, 6\n",
    "Expressions: *, -, /, +"
   ]
  },
  {
   "cell_type": "markdown",
   "id": "efac5976",
   "metadata": {},
   "source": [
    "2. What is the difference between string and variable?\n",
    "\n",
    "Answer: \n",
    "A string is a data type and a variable is a container for storing a data type."
   ]
  },
  {
   "cell_type": "markdown",
   "id": "b3660f2c",
   "metadata": {},
   "source": [
    "3. Describe three different data types.\n",
    "\n",
    "Answer: \n",
    "int: contains whole numbers both positive or negative. E.g.  99, 10000, 2\n",
    "float: contains numbers with decimals both positive and negative. E.g. 99.456, 599.99, 2.0\n",
    "string: contains a sequence of characters/literals enclosed withion single or double quotes. E.g. '2', \"this is a string\", 'A'"
   ]
  },
  {
   "cell_type": "markdown",
   "id": "a40b0f59",
   "metadata": {},
   "source": [
    "4. What is an expression made up of? What do all expressions do?\n",
    "\n",
    "Answer: \n",
    "An expression is a combination of operators and operands which can be variables or literals which produce an output value.\n",
    "E.g. x + 2 * y + 10, here x and y are variables, 2 and 10 are liteals and * is the operator.\n",
    "If the value of x is 2 and y is 1, the putput of this expression is 14."
   ]
  },
  {
   "cell_type": "markdown",
   "id": "c354d49b",
   "metadata": {},
   "source": [
    "5. This assignment statements, like spam = 10. What is the difference between an expression and a statement?\n",
    "\n",
    "Answer: \n",
    "An expression is expected to produce an output value but the assignment statement just assigns the value to the variable without any evaluation/computation based on any condition."
   ]
  },
  {
   "cell_type": "markdown",
   "id": "bab0915f",
   "metadata": {},
   "source": [
    "6. After running the following code, what does the variable bacon contain?\n",
    "bacon = 22\n",
    "bacon + 1\n",
    "\n",
    "Answer: 22"
   ]
  },
  {
   "cell_type": "markdown",
   "id": "8634ed81",
   "metadata": {},
   "source": [
    "7. What should the values of the following two terms be?\n",
    "'spam' + 'spamspam'\n",
    "'spam' * 3\n",
    "\n",
    "Answer: \n",
    "'spamspamspam'\n",
    "'spamspamspam'"
   ]
  },
  {
   "cell_type": "markdown",
   "id": "7f892b69",
   "metadata": {},
   "source": [
    "8. Why is eggs a valid variable name while 100 is invalid?\n",
    "\n",
    "Answer: Identifiers/variable names cannot start with a number."
   ]
  },
  {
   "cell_type": "markdown",
   "id": "1d00beac",
   "metadata": {},
   "source": [
    "9. What three functions can be used to get the integer, floating-point number, or string version of a value?\n",
    "\n",
    "Answer: \n",
    "int(value)\n",
    "float(value)\n",
    "str(value)"
   ]
  },
  {
   "cell_type": "markdown",
   "id": "a3780ff4",
   "metadata": {},
   "source": [
    "10. Why does this expression cause an error? How can you fix it?\n",
    "'I have eaten ' + 99 + ' burritos.'\n",
    "\n",
    "Answer: String and integer can't be concatenated/added.\n",
    "Solution : 'I have eaten ' + str(99) + ' burritos.'"
   ]
  }
 ],
 "metadata": {
  "kernelspec": {
   "display_name": "Python 3 (ipykernel)",
   "language": "python",
   "name": "python3"
  },
  "language_info": {
   "codemirror_mode": {
    "name": "ipython",
    "version": 3
   },
   "file_extension": ".py",
   "mimetype": "text/x-python",
   "name": "python",
   "nbconvert_exporter": "python",
   "pygments_lexer": "ipython3",
   "version": "3.10.9"
  }
 },
 "nbformat": 4,
 "nbformat_minor": 5
}
