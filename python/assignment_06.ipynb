{
 "cells": [
  {
   "cell_type": "markdown",
   "id": "61fb025c",
   "metadata": {},
   "source": [
    "# Assignment 6"
   ]
  },
  {
   "cell_type": "markdown",
   "id": "4d015088",
   "metadata": {},
   "source": [
    "Q.1. What are keywords in python? Using the keyword library, print all the python keywords."
   ]
  },
  {
   "cell_type": "markdown",
   "id": "fee68bc2",
   "metadata": {},
   "source": [
    "A.2: Keywords are reserved words which are used by python to identify pre-specified variables, functions or identifiers."
   ]
  },
  {
   "cell_type": "code",
   "execution_count": 64,
   "id": "337effcc",
   "metadata": {},
   "outputs": [
    {
     "name": "stdout",
     "output_type": "stream",
     "text": [
      "['False', 'None', 'True', 'and', 'as', 'assert', 'async', 'await', 'break', 'class', 'continue', 'def', 'del', 'elif', 'else', 'except', 'finally', 'for', 'from', 'global', 'if', 'import', 'in', 'is', 'lambda', 'nonlocal', 'not', 'or', 'pass', 'raise', 'return', 'try', 'while', 'with', 'yield']\n"
     ]
    }
   ],
   "source": [
    "import keyword\n",
    "\n",
    "print(keyword.kwlist)"
   ]
  },
  {
   "cell_type": "markdown",
   "id": "e67df863",
   "metadata": {},
   "source": [
    "Q.2. What are the rules to create variables in python?"
   ]
  },
  {
   "cell_type": "markdown",
   "id": "a8331f2c",
   "metadata": {},
   "source": [
    "A.2:\n",
    "Variables can contain any characters from 'a-z', 'A-Z', '0-9' and '_ but should always start with an alphabet or an  underscore '_'.\n",
    "Example : \n",
    "input_11\n",
    "_input_12\n",
    "_input_23_"
   ]
  },
  {
   "cell_type": "code",
   "execution_count": 65,
   "id": "91264a74",
   "metadata": {},
   "outputs": [],
   "source": [
    "#A.2 Examples:\n",
    "variable_name_123 = \"variable_name_123\"\n",
    "_variable_name_ = 737.8\n",
    "__sp_variable_name_123 = 787"
   ]
  },
  {
   "cell_type": "markdown",
   "id": "9321863e",
   "metadata": {},
   "source": [
    "Q.3. What are the standards and conventions followed for the nomenclature of variables in\n",
    "python to improve code readability and maintainability?"
   ]
  },
  {
   "cell_type": "markdown",
   "id": "6a071541",
   "metadata": {},
   "source": [
    "A.3: \n",
    "Some standards and convention recommended are : \n",
    "* Variable names should be meaningful and denote the intent, e.g.  name, employee_list rather than var1, list1 etc.\n",
    "* \"_*\" : starts single underscore with to denote non-public identifiers\n",
    "* \"__*\" : starts with dual underscores to denote strongly private identifiers \n",
    "* \"__*__\" : start sand ends with dual underscores to denote language defined special names"
   ]
  },
  {
   "cell_type": "markdown",
   "id": "b4258e56",
   "metadata": {},
   "source": [
    "Q.4. What will happen if a keyword is used as a variable name?"
   ]
  },
  {
   "cell_type": "markdown",
   "id": "d102cdd6",
   "metadata": {},
   "source": [
    "A.4: It will generate an error depending upon the usage."
   ]
  },
  {
   "cell_type": "markdown",
   "id": "192bd429",
   "metadata": {},
   "source": [
    "Q.5. For what purpose def keyword is used?"
   ]
  },
  {
   "cell_type": "markdown",
   "id": "68c6aba0",
   "metadata": {},
   "source": [
    "A.5: To define a function."
   ]
  },
  {
   "cell_type": "markdown",
   "id": "2d9064ca",
   "metadata": {},
   "source": [
    "Q.6. What is the operation of this special character ‘\\’?"
   ]
  },
  {
   "cell_type": "markdown",
   "id": "de0f20ff",
   "metadata": {},
   "source": [
    "A.6: It is an Escape character which is used to insert escape sequences in a string."
   ]
  },
  {
   "cell_type": "code",
   "execution_count": 66,
   "id": "d8f04b16",
   "metadata": {},
   "outputs": [
    {
     "name": "stdout",
     "output_type": "stream",
     "text": [
      "\"Python is powerful, simple and fun.\", exclaimed a student\n"
     ]
    }
   ],
   "source": [
    "#A.6 Example : \n",
    "str_quote = \"\\\"Python is powerful, simple and fun.\\\", exclaimed a student\"\n",
    "print(str_quote)"
   ]
  },
  {
   "cell_type": "markdown",
   "id": "6a064b0f",
   "metadata": {},
   "source": [
    "Q.7. Give an example of the following conditions:\n",
    "(i) Homogeneous list\n",
    "(ii) Heterogeneous set\n",
    "(iii) Homogeneous tuple"
   ]
  },
  {
   "cell_type": "code",
   "execution_count": 67,
   "id": "24a7faf8",
   "metadata": {},
   "outputs": [
    {
     "name": "stdout",
     "output_type": "stream",
     "text": [
      "['All', 'items', 'are', 'of', 'same', 'type', 'and', 'mutable', '.']\n",
      "{20000, True, False, 'Items are of different type and unordered.', 17999.99}\n",
      "('All', 'items', 'are', 'of', 'same', 'type', 'but', 'immutable', '.')\n"
     ]
    }
   ],
   "source": [
    "#A.7: \n",
    "\n",
    "#(i) Homogeneous list: \n",
    "list_homogenous = [\"All\", \"items\", \"are\", \"of\", \"same\", \"type\", \"and\", \"mutable\", \".\"]\n",
    "print(list_homogenous)\n",
    "\n",
    "#(ii) Heterogeneous set\n",
    "set_heterogenous = {\"Items are of different type and unordered.\", 17999.99, 20000, False, True}\n",
    "print(set_heterogenous)\n",
    "\n",
    "#(iii) Homogeneous tuple\n",
    "tuple_homogenous = (\"All\", \"items\", \"are\", \"of\", \"same\", \"type\", \"but\", \"immutable\", \".\")\n",
    "print(tuple_homogenous)"
   ]
  },
  {
   "cell_type": "markdown",
   "id": "cad2675d",
   "metadata": {},
   "source": [
    "Q.8. Explain the mutable and immutable data types with proper explanation & examples."
   ]
  },
  {
   "cell_type": "markdown",
   "id": "b4db8d6a",
   "metadata": {},
   "source": [
    "A.8:\n",
    "Mutable data types are the ones where the value contained in them can be changed (lists) whereas immutable types are the ones where the value contained in them can not be changed (tuples)."
   ]
  },
  {
   "cell_type": "code",
   "execution_count": 68,
   "id": "992efec5",
   "metadata": {},
   "outputs": [
    {
     "name": "stdout",
     "output_type": "stream",
     "text": [
      "['apple', 'orange', 'banana', 'guava', 'pineapple']\n",
      "['apple', 'orange', 'banana', 'guava', 'mango']\n"
     ]
    }
   ],
   "source": [
    "#Examples: \n",
    "\n",
    "#mutable\n",
    "list_fruits = [\"apple\", \"orange\", \"banana\", \"guava\", \"pineapple\"]\n",
    "print(list_fruits)\n",
    "#changing the element at 4th index to mango\n",
    "list_fruits[4] = \"mango\"\n",
    "#We can see that the element at 4th index has been changed from pineapple to mango, since list is a mutable data type\n",
    "print(list_fruits)"
   ]
  },
  {
   "cell_type": "code",
   "execution_count": 69,
   "id": "1f42c4b9",
   "metadata": {},
   "outputs": [
    {
     "name": "stdout",
     "output_type": "stream",
     "text": [
      "('apple', 'orange', 'banana', 'guava', 'pineapple')\n"
     ]
    }
   ],
   "source": [
    "#immutable\n",
    "tuple_fruits = (\"apple\", \"orange\", \"banana\", \"guava\", \"pineapple\")\n",
    "print(tuple_fruits)\n",
    "# changing the element at 4th index to mango will generate a TypeError: \"tuple' object does not support item assignment\"\n",
    "# since tuple is an immutable data type.\n",
    "#uncomment to check\n",
    "#tuple_fruits[4] = \"mango\"\n"
   ]
  },
  {
   "cell_type": "markdown",
   "id": "de4f77f0",
   "metadata": {},
   "source": [
    "Q.9. Write a code to create the given structure using only for loop.\n",
    "*\n",
    "***\n",
    "*****\n",
    "*******\n",
    "*********"
   ]
  },
  {
   "cell_type": "code",
   "execution_count": 70,
   "id": "f37bb9f6",
   "metadata": {},
   "outputs": [
    {
     "name": "stdout",
     "output_type": "stream",
     "text": [
      "*\n",
      "***\n",
      "*****\n",
      "*******\n",
      "*********\n"
     ]
    }
   ],
   "source": [
    "counter = range(10)\n",
    "for i in counter:\n",
    "    if i % 2 != 0:\n",
    "        print('*' * i)\n",
    "    "
   ]
  },
  {
   "cell_type": "markdown",
   "id": "5ebb5ef8",
   "metadata": {},
   "source": [
    "Q.10. Write a code to create the given structure using while loop.\n",
    "|||||||||\n",
    "|||||||\n",
    "|||||\n",
    "|||\n",
    "|"
   ]
  },
  {
   "cell_type": "code",
   "execution_count": 71,
   "id": "c1679b29",
   "metadata": {},
   "outputs": [
    {
     "name": "stdout",
     "output_type": "stream",
     "text": [
      "|||||||||\n",
      "|||||||\n",
      "|||||\n",
      "|||\n",
      "|\n"
     ]
    }
   ],
   "source": [
    "counter = 10\n",
    "while counter > 0:\n",
    "    if counter % 2 != 0:\n",
    "        print('|' * counter)\n",
    "    counter -= 1\n",
    "    "
   ]
  }
 ],
 "metadata": {
  "kernelspec": {
   "display_name": "Python 3 (ipykernel)",
   "language": "python",
   "name": "python3"
  },
  "language_info": {
   "codemirror_mode": {
    "name": "ipython",
    "version": 3
   },
   "file_extension": ".py",
   "mimetype": "text/x-python",
   "name": "python",
   "nbconvert_exporter": "python",
   "pygments_lexer": "ipython3",
   "version": "3.10.9"
  }
 },
 "nbformat": 4,
 "nbformat_minor": 5
}
