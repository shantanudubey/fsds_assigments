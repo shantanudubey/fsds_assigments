{
 "cells": [
  {
   "cell_type": "markdown",
   "id": "d358e476",
   "metadata": {},
   "source": [
    "# Assignment 10th June"
   ]
  },
  {
   "cell_type": "markdown",
   "id": "bec79f73",
   "metadata": {},
   "source": [
    "1. In Python, what is the difference between a built-in function and a user-defined function? Provide an example of each."
   ]
  },
  {
   "cell_type": "markdown",
   "id": "27088d18",
   "metadata": {},
   "source": [
    "A1 : Built-in functions are available from the language python by default to be used by the user whereas user-defined functions are the ones which are defined by the user for custom requrirements."
   ]
  },
  {
   "cell_type": "code",
   "execution_count": 1,
   "id": "1068d62f",
   "metadata": {},
   "outputs": [
    {
     "name": "stdout",
     "output_type": "stream",
     "text": [
      "built-in :  22.23\n",
      "Congrats Python! You've scored a direct hit. Your reward awaits you at the counter.\n"
     ]
    }
   ],
   "source": [
    "# Examples : \n",
    "# Built-in : round() is a built-in function to round the value to the specified decimal places\n",
    "float_01 = round(22.234567, 2)\n",
    "print(\"built-in : \", float_01)\n",
    "\n",
    "# User-defined : show_result() is a user-defined function which displays a custom message based on the points scored\n",
    "def show_result(points, alias=\"\"):\n",
    "    points = round(points, 2)\n",
    "    if points > 10:\n",
    "        print(f\"Congrats {alias}! You've scored a direct hit. Your reward awaits you at the counter.\")\n",
    "    elif points >= 6 and points <= 10:\n",
    "        print(f\"Good job {alias}. You've scored a hit. Now aim for the bullseye to get the reward.\")\n",
    "    else:\n",
    "        print(f\"You need to hit within the circle {alias}. You can do it, let's give it another go.\")\n",
    "\n",
    "show_result(21, \"Python\")"
   ]
  },
  {
   "cell_type": "markdown",
   "id": "0a48ba66",
   "metadata": {},
   "source": [
    "2. How can you pass arguments to a function in Python? Explain the difference between positional arguments and keyword arguments."
   ]
  },
  {
   "cell_type": "markdown",
   "id": "e1473657",
   "metadata": {},
   "source": [
    "A2 : Arguments can be passed by specifying them inside the parenthesis when calling the function, in the expected format.\n",
    "Positional arguments have to be passed in sequence, from left to right, as expected by the function whereas keyword arguments can be passed out of sequence as long as the expected keywords are specified."
   ]
  },
  {
   "cell_type": "code",
   "execution_count": 2,
   "id": "5c780ce1",
   "metadata": {},
   "outputs": [
    {
     "name": "stdout",
     "output_type": "stream",
     "text": [
      "Congrats Python3! You've scored a direct hit. Your reward awaits you at the counter.\n",
      "Good job Python3. You've scored a hit. Now aim for the bullseye to get the reward.\n"
     ]
    }
   ],
   "source": [
    "# Argument Passing : Using the show_result() function defined above\n",
    "\n",
    "# Positional : here if we pass \"Python3\" first and '15' later, this will cause an error\n",
    "show_result(15, \"Python3\")\n",
    "\n",
    "# Keyword : but since we have specified argument-keywords here, the order doesn't matter\n",
    "show_result(alias=\"Python3\", points=9)"
   ]
  },
  {
   "cell_type": "markdown",
   "id": "eae91df0",
   "metadata": {},
   "source": [
    "3. What is the purpose of the return statement in a function? Can a function have multiple return statements? Explain with an example."
   ]
  },
  {
   "cell_type": "markdown",
   "id": "e3f05f4a",
   "metadata": {},
   "source": [
    "A3 : Return statement returns the control back to the caller and out of current scope of the function."
   ]
  },
  {
   "cell_type": "code",
   "execution_count": 3,
   "id": "0bfa0121",
   "metadata": {},
   "outputs": [
    {
     "name": "stdout",
     "output_type": "stream",
     "text": [
      "A+\n"
     ]
    }
   ],
   "source": [
    "# Example of multiple return statements : \n",
    "def get_grade(marks):\n",
    "    if(marks >= 90 and marks <= 100):\n",
    "        return 'A+'\n",
    "    elif marks >= 75 and marks < 90:\n",
    "        return 'A'\n",
    "    elif marks >= 60 and marks < 75:\n",
    "        return 'B'\n",
    "    elif marks >= 45 and marks < 60:\n",
    "        return 'C'\n",
    "    elif marks >= 33 and marks < 45:\n",
    "        return 'D'\n",
    "    elif marks >= 0 and marks < 33:\n",
    "        return 'E'\n",
    "    else:\n",
    "        # Marks are out of range\n",
    "        return None\n",
    "    \n",
    "print(get_grade(99))"
   ]
  },
  {
   "cell_type": "markdown",
   "id": "7f7c3500",
   "metadata": {},
   "source": [
    "4. What are lambda functions in Python? How are they different from regular functions? Provide an example where a lambda function can be useful."
   ]
  },
  {
   "cell_type": "markdown",
   "id": "9c98a301",
   "metadata": {},
   "source": [
    "A4 :\n",
    "Lambda functions are short inline and anonymous functions which can be used to do quick operations/calculations without going through the standard function definition, reducing developemnt effort and increasing productivity.\n",
    "They are different from regular functions in declaration using the 'lambda' keyword instead of 'def' for functions and in intended usage of being single line of execution. It can only have expressions in its body.\n",
    "\n",
    "They're used as an anonymous function argument to map, filter and reduce functions."
   ]
  },
  {
   "cell_type": "code",
   "execution_count": 4,
   "id": "b1e5401e",
   "metadata": {},
   "outputs": [
    {
     "name": "stdout",
     "output_type": "stream",
     "text": [
      "[1, 8, 27, 64, 125, 216, 343, 512, 729, 1000]\n"
     ]
    }
   ],
   "source": [
    "# Getting a list of cubes of all items in a list, using lambda with map\n",
    "list_01 = [1, 2, 3, 4, 5, 6, 7, 8, 9, 10]\n",
    "m = map(lambda n: n*n*n, list_01)\n",
    "print(list(m))"
   ]
  },
  {
   "cell_type": "markdown",
   "id": "3fc0f376",
   "metadata": {},
   "source": [
    "5. How does the concept of \"scope\" apply to functions in Python? Explain the difference between local scope and global scope."
   ]
  },
  {
   "cell_type": "markdown",
   "id": "e65d58e7",
   "metadata": {},
   "source": [
    "A5 : Scope defines the visibility of variables.\n",
    "In a function the variables defined inside it, the parameters passed as arguments, any enclosing variables if the function is nested are available for use along with the global and built-in variables and literals."
   ]
  },
  {
   "cell_type": "code",
   "execution_count": 5,
   "id": "9715eaf5",
   "metadata": {},
   "outputs": [
    {
     "name": "stdout",
     "output_type": "stream",
     "text": [
      "Connecting to server : https://ineuron.ai\n",
      "server_status : True\n"
     ]
    }
   ],
   "source": [
    "# Scope : In the below example, server_status is a global variable whose value is changed inside test_connection()\n",
    "SERVER_01 = \"https://ineuron.ai\"\n",
    "SERVER_02 = \"https://google.com\"\n",
    "test_connection = False\n",
    "\n",
    "def test_connection(test_code):\n",
    "    # this is a local variable of test_connection()\n",
    "    status = False\n",
    "    if test_code == 1:\n",
    "        print(\"Connecting to server :\", SERVER_01)\n",
    "        status = True\n",
    "    elif test_code == 2:\n",
    "        print(\"Connecting to server :\", SERVER_02)\n",
    "        status = True\n",
    "    else:\n",
    "        print(\"Invalid test code :\", test_code)\n",
    "        status = False\n",
    "    \n",
    "    # if we don't use the global keyword then it becomes a local variable and the global test_connection isn't updated \n",
    "    global server_status\n",
    "    server_status = status\n",
    "    \n",
    "test_connection(1)\n",
    "print(\"server_status :\", server_status)"
   ]
  },
  {
   "cell_type": "markdown",
   "id": "89df1913",
   "metadata": {},
   "source": [
    "6. How can you use the \"return\" statement in a Python function to return multiple values?"
   ]
  },
  {
   "cell_type": "code",
   "execution_count": 6,
   "id": "77ee7d2d",
   "metadata": {},
   "outputs": [
    {
     "name": "stdout",
     "output_type": "stream",
     "text": [
      "('RX35DR', 'Radio Antenna', 20) <class 'tuple'>\n",
      "['RX35DR', 'Radio Antenna', 20] <class 'list'>\n",
      "{'code': 'RX35DR', 'name': 'Radio Antenna', 'qty': 20} <class 'dict'>\n"
     ]
    }
   ],
   "source": [
    "# A6 : As shown, we can use data structures like lists, dictionaries to return multiple values.\n",
    "#      The default comma separated values are returned as a tuple\n",
    "\n",
    "def get_test_values():\n",
    "    return \"RX35DR\", \"Radio Antenna\", 20\n",
    "\n",
    "def get_test_values_list():\n",
    "    return [\"RX35DR\", \"Radio Antenna\", 20]\n",
    "\n",
    "def get_test_values_dict():\n",
    "    return {'code':\"RX35DR\", 'name':\"Radio Antenna\", 'qty':20}\n",
    "\n",
    "print(get_test_values(), type(get_test_values()))\n",
    "print(get_test_values_list(), type(get_test_values_list()))\n",
    "print(get_test_values_dict(), type(get_test_values_dict()))"
   ]
  },
  {
   "cell_type": "markdown",
   "id": "74823cbe",
   "metadata": {},
   "source": [
    "7. What is the difference between the \"pass by value\" and \"pass by reference\" concepts when it comes to function arguments in Python?"
   ]
  },
  {
   "cell_type": "markdown",
   "id": "4b644ca4",
   "metadata": {},
   "source": [
    "A7 : In principle, pass by value doesn't modify the values of the variables being passed as arguments to a function but pass by reference will modify it as it referes to the same memory location.\n",
    "\n",
    "In Python arguments are passed by assignment, which means that memory addresses of variables are passed as arguments(like pass by reference) but if any new value is assigned to those variables then a new memory address containng the modified value is assigned, converting the arguments to local variables of the function not modifying the memory address passed as the argument(like pass by reference)."
   ]
  },
  {
   "cell_type": "code",
   "execution_count": 7,
   "id": "04992863",
   "metadata": {},
   "outputs": [
    {
     "name": "stdout",
     "output_type": "stream",
     "text": [
      "Passed   : 1122 2302749060944\n",
      "Received : 1122 2302749060944\n",
      "Returning: 1122 2302749060944\n",
      "Returned : 1122 2302749060944\n",
      "--------------------------------------------------------------------------------\n",
      "Passed   : 1000 2302749062128\n",
      "Received : 1000 2302749062128\n",
      "Returning: 2000 2302749061456\n",
      "Returned : 1000 2302749062128\n"
     ]
    }
   ],
   "source": [
    "# The memory address is the same throughout showing pass by value\n",
    "def demo_val_func(n):\n",
    "    print(\"Received :\", n, id(n))\n",
    "    print(\"Returning:\", n, id(n))\n",
    "    return n\n",
    "\n",
    "num_01 = 1122\n",
    "print(\"Passed   :\", num_01, id(num_01))\n",
    "num_01 = demo_val_func(num_01)\n",
    "print(\"Returned :\", num_01, id(num_01))\n",
    "\n",
    "def demo_func_ref(n):\n",
    "    print(\"Received :\", n, id(n))\n",
    "    n = n + 1000\n",
    "    print(\"Returning:\", n, id(n))\n",
    "    return n\n",
    "\n",
    "print('-'*80)\n",
    "\n",
    "num_02 = 1000\n",
    "print(\"Passed   :\", num_02, id(num_02))\n",
    "demo_func_ref(num_02)\n",
    "print(\"Returned :\", num_02, id(num_02))"
   ]
  },
  {
   "cell_type": "markdown",
   "id": "63f3ca89",
   "metadata": {},
   "source": [
    "8. Create a function that can intake integer or decimal value and do following operations:\n",
    "    a. Logarithmic function (log x)\n",
    "    b. Exponential function (exp(x))\n",
    "    c. Power function with base 2 (2x)\n",
    "    d. Square root"
   ]
  },
  {
   "cell_type": "code",
   "execution_count": 8,
   "id": "db495b74",
   "metadata": {},
   "outputs": [
    {
     "name": "stdout",
     "output_type": "stream",
     "text": [
      "Result of log  : 4.007333185232471\n",
      "Result of exp  : 7.694785265142018e+23\n",
      "Result of 2x   : 3025.0\n",
      "Result of sqrt : 7.416198487095663\n"
     ]
    }
   ],
   "source": [
    "#A10 : \n",
    "import math\n",
    "\n",
    "def calculate_arithmetics(x):\n",
    "    return {\n",
    "        \"log\" : math.log(x),\n",
    "        \"exp\" : math.exp(x),\n",
    "        \"2x\" : math.pow(x,2),\n",
    "        \"sqrt\" : math.sqrt(x)\n",
    "    }\n",
    "\n",
    "result = calculate_arithmetics(55)\n",
    "print(\"Result of log  :\", result[\"log\"])\n",
    "print(\"Result of exp  :\", result[\"exp\"])\n",
    "print(\"Result of 2x   :\", result[\"2x\"])\n",
    "print(\"Result of sqrt :\", result[\"sqrt\"])\n"
   ]
  },
  {
   "cell_type": "markdown",
   "id": "d119f560",
   "metadata": {},
   "source": [
    "9. Create a function that takes a full name as an argument and returns first name and last name."
   ]
  },
  {
   "cell_type": "code",
   "execution_count": 9,
   "id": "493de59d",
   "metadata": {},
   "outputs": [
    {
     "name": "stdout",
     "output_type": "stream",
     "text": [
      "Enter your full name separated by spaces : Name Surname\n",
      "First Name : Name\n",
      "Last Name  : Surname\n"
     ]
    }
   ],
   "source": [
    "#A9 : \n",
    "\n",
    "def get_name_split(full_name):\n",
    "    return str(full_name).split()\n",
    "\n",
    "full_name = str(input(\"Enter your full name separated by spaces : \"))\n",
    "name_split = get_name_split(full_name)\n",
    "if len(name_split) > 0:\n",
    "    print(\"First Name :\", name_split[0])\n",
    "if len(name_split) > 1:\n",
    "    print(\"Last Name  :\", name_split[1])"
   ]
  }
 ],
 "metadata": {
  "kernelspec": {
   "display_name": "Python 3 (ipykernel)",
   "language": "python",
   "name": "python3"
  },
  "language_info": {
   "codemirror_mode": {
    "name": "ipython",
    "version": 3
   },
   "file_extension": ".py",
   "mimetype": "text/x-python",
   "name": "python",
   "nbconvert_exporter": "python",
   "pygments_lexer": "ipython3",
   "version": "3.10.9"
  }
 },
 "nbformat": 4,
 "nbformat_minor": 5
}
