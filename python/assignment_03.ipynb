{
 "cells": [
  {
   "cell_type": "markdown",
   "id": "d3081cbc",
   "metadata": {},
   "source": [
    "# Assignment 3"
   ]
  },
  {
   "cell_type": "markdown",
   "id": "ba22aea5",
   "metadata": {},
   "source": [
    "1. Why are functions advantageous to have in your programs?"
   ]
  },
  {
   "cell_type": "markdown",
   "id": "63076afb",
   "metadata": {},
   "source": [
    "A1: To re-use and share a common functionality and reduce the lines of code needed."
   ]
  },
  {
   "cell_type": "markdown",
   "id": "e67fe25e",
   "metadata": {},
   "source": [
    "2. When does the code in a function run: when it's specified or when it's called?"
   ]
  },
  {
   "cell_type": "markdown",
   "id": "afdb7398",
   "metadata": {},
   "source": [
    "A2: When its called."
   ]
  },
  {
   "cell_type": "markdown",
   "id": "fcaee7c6",
   "metadata": {},
   "source": [
    "3. What statement creates a function?"
   ]
  },
  {
   "cell_type": "markdown",
   "id": "d4fb48ee",
   "metadata": {},
   "source": [
    "A3: \"def\" keyword when used with the function name and block creates a function."
   ]
  },
  {
   "cell_type": "code",
   "execution_count": null,
   "id": "eb575f6c",
   "metadata": {},
   "outputs": [],
   "source": [
    "#Example\n",
    "def showWelcomeMessage():\n",
    "    print(\"Hello World!\")"
   ]
  },
  {
   "cell_type": "markdown",
   "id": "6b4718e0",
   "metadata": {},
   "source": [
    "4. What is the difference between a function and a function call?"
   ]
  },
  {
   "cell_type": "markdown",
   "id": "06ec50c8",
   "metadata": {},
   "source": [
    "A4: A function is just the definition while the function call executes the logic defined in the function."
   ]
  },
  {
   "cell_type": "code",
   "execution_count": 2,
   "id": "df086511",
   "metadata": {},
   "outputs": [
    {
     "name": "stdout",
     "output_type": "stream",
     "text": [
      "Hello World!\n"
     ]
    }
   ],
   "source": [
    "#Example:\n",
    "#defining\n",
    "def showWelcomeMessage():\n",
    "    print(\"Hello World!\")\n",
    "    \n",
    "#calling\n",
    "showWelcomeMessage()"
   ]
  },
  {
   "cell_type": "markdown",
   "id": "540b461d",
   "metadata": {},
   "source": [
    "5. How many global scopes are there in a Python program? How many local scopes?"
   ]
  },
  {
   "cell_type": "markdown",
   "id": "e2a99db9",
   "metadata": {},
   "source": [
    "A5:\n",
    "There are 4 types of scopes in python :  \n",
    "1. Local : available only inside a function. e.g. variables declared inside a function including parameters passed.\n",
    "2. Enclosing : variables from an enclosing function available inside the nested function.\n",
    "3. Global : variables available throughout the current file or module.\n",
    "4. Built-in : available by default from the language itself like python keywords, exceptions.\n",
    "\n",
    "There is only one local scope in python which is \"local\".\n",
    "Although in a function, the variables defined and the arguments passed can be considered in the local scope but its not entirely true."
   ]
  },
  {
   "cell_type": "markdown",
   "id": "95e80de1",
   "metadata": {},
   "source": [
    "6. What happens to variables in a local scope when the function call returns?"
   ]
  },
  {
   "cell_type": "markdown",
   "id": "72dc1d40",
   "metadata": {},
   "source": [
    "A6: They're destroyed and the memory becomes available for garbage collection."
   ]
  },
  {
   "cell_type": "markdown",
   "id": "07e37221",
   "metadata": {},
   "source": [
    "7. What is the concept of a return value? Is it possible to have a return value in an expression?"
   ]
  },
  {
   "cell_type": "markdown",
   "id": "c1040121",
   "metadata": {},
   "source": [
    "A7: Return value is returning the result of the statements executed in a function to the caller. This makes the function self-contained so it can be used anywhere in the program.\n",
    "\n",
    "Expressions get evaluated and the result can be assigned to a variable but it cannot be returned as the concept of returning values is specific to functions."
   ]
  },
  {
   "cell_type": "markdown",
   "id": "061e6255",
   "metadata": {},
   "source": [
    "8. If a function does not have a return statement, what is the return value of a call to that function?"
   ]
  },
  {
   "cell_type": "markdown",
   "id": "cb5fcea6",
   "metadata": {},
   "source": [
    "A8: None"
   ]
  },
  {
   "cell_type": "markdown",
   "id": "eca4ffd9",
   "metadata": {},
   "source": [
    "9. How do you make a function variable refer to the global variable?"
   ]
  },
  {
   "cell_type": "markdown",
   "id": "e3ecdc4f",
   "metadata": {},
   "source": [
    "A9: "
   ]
  },
  {
   "cell_type": "markdown",
   "id": "bce0d00a",
   "metadata": {},
   "source": [
    "10. What is the data type of None?"
   ]
  },
  {
   "cell_type": "markdown",
   "id": "262b12fd",
   "metadata": {},
   "source": [
    "A10: NoneType"
   ]
  },
  {
   "cell_type": "markdown",
   "id": "2b38843e",
   "metadata": {},
   "source": [
    "11. What does the sentence import areallyourpetsnamederic do?"
   ]
  },
  {
   "cell_type": "markdown",
   "id": "4b93bdc1",
   "metadata": {},
   "source": [
    "A11: imports the package areallyourpetsnamederic and makes the functions inside it available for use using areallyourpetsnamederic.<function-name>()"
   ]
  },
  {
   "cell_type": "markdown",
   "id": "b1d1ee37",
   "metadata": {},
   "source": [
    "12. If you had a bacon() feature in a spam module, what would you call it after importing spam?"
   ]
  },
  {
   "cell_type": "markdown",
   "id": "a8afcffa",
   "metadata": {},
   "source": [
    "A12: spam.bacon()"
   ]
  },
  {
   "cell_type": "markdown",
   "id": "72caf441",
   "metadata": {},
   "source": [
    "13. What can you do to save a programme from crashing if it encounters an error?"
   ]
  },
  {
   "cell_type": "markdown",
   "id": "62810c1e",
   "metadata": {},
   "source": [
    "A13: Handle the error using try-except-finally clause."
   ]
  },
  {
   "cell_type": "markdown",
   "id": "264db2ce",
   "metadata": {},
   "source": [
    "14. What is the purpose of the try clause? What is the purpose of the except clause?"
   ]
  },
  {
   "cell_type": "markdown",
   "id": "a27d0025",
   "metadata": {},
   "source": [
    "A14: try clause executes the statements contained in its scope and when an error occurs prevents the code from crashing and looks for the matching except clause."
   ]
  }
 ],
 "metadata": {
  "kernelspec": {
   "display_name": "Python 3 (ipykernel)",
   "language": "python",
   "name": "python3"
  },
  "language_info": {
   "codemirror_mode": {
    "name": "ipython",
    "version": 3
   },
   "file_extension": ".py",
   "mimetype": "text/x-python",
   "name": "python",
   "nbconvert_exporter": "python",
   "pygments_lexer": "ipython3",
   "version": "3.10.9"
  }
 },
 "nbformat": 4,
 "nbformat_minor": 5
}
