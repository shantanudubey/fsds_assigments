{
 "cells": [
  {
   "cell_type": "markdown",
   "id": "4242bd2a",
   "metadata": {},
   "source": [
    "# Assignment 17th June"
   ]
  },
  {
   "cell_type": "markdown",
   "id": "50436761",
   "metadata": {},
   "source": [
    "1. What is the role of try and exception block?"
   ]
  },
  {
   "cell_type": "markdown",
   "id": "1b2648ea",
   "metadata": {},
   "source": [
    "A1 : \n",
    "The try block is used to write code which can generate/raise exceptions and the except block is used to write code to handle the situation when the corresponding exception is raised.\n",
    "Both the blocks are used to gracefully handle runtime exceptions and prevent the program from crashing."
   ]
  },
  {
   "cell_type": "markdown",
   "id": "901b07f5",
   "metadata": {},
   "source": [
    "2. What is the syntax for a basic try-except block?"
   ]
  },
  {
   "cell_type": "code",
   "execution_count": 22,
   "id": "7ae414ac",
   "metadata": {},
   "outputs": [
    {
     "name": "stdout",
     "output_type": "stream",
     "text": [
      "Exception occured : division by zero\n"
     ]
    }
   ],
   "source": [
    "# A2 : Syntax is as shown below :\n",
    "\n",
    "try:\n",
    "    result = 456 / 0 \n",
    "except Exception as e:\n",
    "    print(\"Exception occured :\", e)"
   ]
  },
  {
   "cell_type": "markdown",
   "id": "62e5a6b9",
   "metadata": {},
   "source": [
    "3. What happens if an exception occurs inside a try block and there is no matching except block?"
   ]
  },
  {
   "cell_type": "markdown",
   "id": "e4aca4eb",
   "metadata": {},
   "source": [
    "A3 : Then the default Exception handler catches it, prints the stack trace and terminates execution."
   ]
  },
  {
   "cell_type": "markdown",
   "id": "a6d316f4",
   "metadata": {},
   "source": [
    "4. What is the difference between using a bare except block and specifying a specific exception type?"
   ]
  },
  {
   "cell_type": "markdown",
   "id": "71509e8f",
   "metadata": {},
   "source": [
    "A4 : \n",
    "An except block for a specific exception type, say \"ZeroDivisionError\" will be triggered only when a divide-by-zero exception occurs whereas a bare except block will catch any Exception that triggers."
   ]
  },
  {
   "cell_type": "markdown",
   "id": "20946e34",
   "metadata": {},
   "source": [
    "5. Can you have nested try-except blocks in Python? If yes, then give an example."
   ]
  },
  {
   "cell_type": "code",
   "execution_count": 23,
   "id": "abfe2651",
   "metadata": {},
   "outputs": [
    {
     "name": "stdout",
     "output_type": "stream",
     "text": [
      "Inner : string index out of range\n"
     ]
    }
   ],
   "source": [
    "# A5 : Yes, try-except can be nested.\n",
    "\n",
    "try:\n",
    "    msg = \"Hello!\"\n",
    "    try:\n",
    "        print(msg[len(msg)])\n",
    "    except IndexError as e:\n",
    "        print(\"Inner :\", e)\n",
    "except ZeroDivisionError as e:\n",
    "        print(\"Outer :\", e)"
   ]
  },
  {
   "cell_type": "markdown",
   "id": "e9092df9",
   "metadata": {},
   "source": [
    "6. Can we use multiple exception blocks, if yes then give an example."
   ]
  },
  {
   "cell_type": "code",
   "execution_count": 24,
   "id": "c7a6cfba",
   "metadata": {},
   "outputs": [
    {
     "name": "stdout",
     "output_type": "stream",
     "text": [
      "Some exception occured : string index out of range\n"
     ]
    }
   ],
   "source": [
    "# A6 : Yes, we can use multiple except blocks to specifically handle different types of Exception and is encouraged.\n",
    "\n",
    "try:\n",
    "    msg = \"Hello\"\n",
    "    print(msg[len(msg)])       \n",
    "except ZeroDivisionError as e:\n",
    "    print(e)\n",
    "except KeyError as e:\n",
    "    print(e)\n",
    "except Exception as e:\n",
    "    print(\"Some exception occured :\", e)"
   ]
  },
  {
   "cell_type": "markdown",
   "id": "6408ea79",
   "metadata": {},
   "source": [
    "7. Write the reason due to which following errors are raised:\n",
    "    a. EOFError\n",
    "    b. FloatingPointError\n",
    "    c. IndexError\n",
    "    d. MemoryError\n",
    "    e. OverflowError\n",
    "    f. TabError\n",
    "    g. ValueError"
   ]
  },
  {
   "cell_type": "markdown",
   "id": "2f68602b",
   "metadata": {},
   "source": [
    "A7 : \n",
    "    a. EOFError             : End of file reached while traversing\n",
    "    b. FloatingPointError   : A type of ArithmeticError but not used Currently \n",
    "    c. IndexError           : Index out of range in the sequence\n",
    "    d. MemoryError          : Operation running out of memory\n",
    "    e. OverflowError        : Arithmetic operation result is too large to show\n",
    "    f. TabError             : Inconsistent use o tabs/spaces in indenting\n",
    "    g. ValueError           : Function received a correct type but inappropriate value in an argument"
   ]
  },
  {
   "cell_type": "markdown",
   "id": "b986b291",
   "metadata": {},
   "source": [
    "8. Write code for the following given scenario and add try-exception block to it.\n",
    "    a. Program to divide two numbers\n",
    "    b. Program to convert a string to an integer\n",
    "    c. Program to access an element in a list\n",
    "    d. Program to handle a specific exception\n",
    "    e. Program to handle any exception"
   ]
  },
  {
   "cell_type": "code",
   "execution_count": 25,
   "id": "7da495f1",
   "metadata": {},
   "outputs": [
    {
     "name": "stdout",
     "output_type": "stream",
     "text": [
      "Cannot divide by zero : division by zero\n",
      "divide   : None\n",
      "Some exception occured : invalid literal for int() with base 10: 'One'\n",
      "convert  : None\n",
      "Index out of range : list index out of range\n",
      "access   : None\n"
     ]
    }
   ],
   "source": [
    "# A8 : \n",
    "\n",
    "# a. Program to divide two numbers\n",
    "# d. Program to handle a specific exception\n",
    "def divide_two(a, b):\n",
    "    res = None\n",
    "    try:\n",
    "        res = a / b\n",
    "    except ZeroDivisionError as e:\n",
    "        # Handling zero division error specifically using ZeroDivisionError class\n",
    "        print(\"Cannot divide by zero :\", e)        \n",
    "    return res\n",
    "\n",
    "print(\"divide   :\", divide_two(23, 0))\n",
    "\n",
    "\n",
    "# b. Program to convert a string to an integer\n",
    "# e. Program to handle any exception\n",
    "def convert_si(s):\n",
    "    res = None\n",
    "    try:\n",
    "        res = int(s)\n",
    "    except Exception as e:\n",
    "        # handling any exception with the Exception class\n",
    "        print(\"Some exception occured :\", e)\n",
    "    return res\n",
    "\n",
    "print(\"convert  :\", convert_si(\"One\"))\n",
    "\n",
    "\n",
    "# c. Program to access an element in a list\n",
    "# d. Program to handle a specific exception\n",
    "def get_element(lst, index):\n",
    "    res = None\n",
    "    try:\n",
    "        res = lst[index]\n",
    "    except IndexError as e:\n",
    "        # Handling index out of range error specifically using IndexError class\n",
    "        print(\"Index out of range :\", e)\n",
    "\n",
    "print(\"access   :\", get_element([1, 3, 5, 99], 8))"
   ]
  }
 ],
 "metadata": {
  "kernelspec": {
   "display_name": "Python 3 (ipykernel)",
   "language": "python",
   "name": "python3"
  },
  "language_info": {
   "codemirror_mode": {
    "name": "ipython",
    "version": 3
   },
   "file_extension": ".py",
   "mimetype": "text/x-python",
   "name": "python",
   "nbconvert_exporter": "python",
   "pygments_lexer": "ipython3",
   "version": "3.10.9"
  }
 },
 "nbformat": 4,
 "nbformat_minor": 5
}
