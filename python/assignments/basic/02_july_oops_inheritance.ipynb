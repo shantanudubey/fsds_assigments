{
 "cells": [
  {
   "cell_type": "markdown",
   "id": "252c493f",
   "metadata": {},
   "source": [
    "# Assignment : 2nd July : OOPS : Inheritance"
   ]
  },
  {
   "cell_type": "markdown",
   "id": "ef2ab7a7",
   "metadata": {},
   "source": [
    "1. Explain what inheritance is in object-oriented programming and why it is used."
   ]
  },
  {
   "cell_type": "markdown",
   "id": "3c7c5a59",
   "metadata": {},
   "source": [
    "A1:\n",
    "- Inheritance is the process/feature of OOP where a class can acquire/inherit the attributes and methods from another class.\n",
    "- It is used to promote code re-usability and ease of understanding since it mimicks real-world relationships."
   ]
  },
  {
   "cell_type": "markdown",
   "id": "8fdbc987",
   "metadata": {},
   "source": [
    "2. Discuss the concept of single inheritance and multiple inheritance, highlighting their differences and advantages."
   ]
  },
  {
   "cell_type": "markdown",
   "id": "1d7e671e",
   "metadata": {},
   "source": [
    "A2: \n",
    "Single Inheritance is when a class inherits from a single class while Multiple Inheritance is when a class inherits from more than one classes.\n",
    "\n",
    "Advantages : \n",
    "- Both promote code re-use\n",
    "- Both make the code easy to read and understand as they are formed on realistic relationships which are easier to comprehend.\n",
    "- Both promote encapsulation which is another principle of OOP.\n",
    "\n",
    "Differences  : \n",
    "- Multiple Inheritance promotes more code reuse as behvaiours of multiple base classes can be inherited while Single Inheritance limits this to one.\n",
    "- Multiple Inheritance can cause confusion during usage as it can get difficult to keep track multiple classes being used while Single Inheritance has no such issues.\n",
    "- Multiple inheritance will also increase the maintenance effort due to the complexity of structure while Single Inheritance won't.\n",
    "- The use super() is straightforward in Single Inheritance but can get confusing with Multiple Inheritance especially in functions overriden in the subclass and present in both base classes."
   ]
  },
  {
   "cell_type": "markdown",
   "id": "c2d5fe78",
   "metadata": {},
   "source": [
    "3. Explain the terms \"base class\" and \"derived class\" in the context of inheritance."
   ]
  },
  {
   "cell_type": "markdown",
   "id": "62f5cf45",
   "metadata": {},
   "source": [
    "A3:\n",
    "- Derived Class : The class which is inheriting the attributes and methods of another class\n",
    "- Base Class : The class whose attributes and methods are being inherited."
   ]
  },
  {
   "cell_type": "markdown",
   "id": "a8d108ab",
   "metadata": {},
   "source": [
    "4. What is the significance of the \"protected\" access modifier in inheritance? How does it differ from \"private\" and \"public\" modifiers?"
   ]
  },
  {
   "cell_type": "markdown",
   "id": "707c94b4",
   "metadata": {},
   "source": [
    "A4: The protected access-modifier is used to control the access of members which cannot be public b ut would be of use to the inheriting classes.\n",
    "\n",
    "Differences between the aaccess modifiers are : \n",
    "- protected : means that the member is available in the current class and also to all other classes which will inherit this class in the future.\n",
    "- private : means that the member is available only in the current class.\n",
    "- public : means that the member is available to all classes both within and outside the inheritance chain."
   ]
  },
  {
   "cell_type": "markdown",
   "id": "f3e2ac68",
   "metadata": {},
   "source": [
    "5. What is the purpose of the \"super\" keyword in inheritance? Provide an example."
   ]
  },
  {
   "cell_type": "markdown",
   "id": "e534b7c9",
   "metadata": {},
   "source": [
    "A5: The super keyword is used to directly access the parent's members from a subclass."
   ]
  },
  {
   "cell_type": "code",
   "execution_count": 7,
   "id": "221b248e",
   "metadata": {},
   "outputs": [
    {
     "name": "stdout",
     "output_type": "stream",
     "text": [
      "starting : BMW\n",
      "started 330i on Petrol power\n",
      "starting : BMW\n",
      "started 320d on Diesel power\n"
     ]
    }
   ],
   "source": [
    "class Vehicle:\n",
    "    def __init__(self, name):\n",
    "        self.name = name\n",
    "        \n",
    "    def start(self):\n",
    "        print(\"starting :\", self.name)\n",
    "\n",
    "# Every Vehicle starts but a Car starts with a fuel so we call the Vehicle's start() to initiate the starting\n",
    "# and then Car's start() to specify the model and fuel\n",
    "class Car(Vehicle):\n",
    "    def __init__(self, name, model, fuel):\n",
    "        super().__init__(name)\n",
    "        self.model = model\n",
    "        self.fuel = fuel\n",
    "        \n",
    "    def start(self):\n",
    "        super().start()\n",
    "        print(f\"started {self.model} on {self.fuel} power\")\n",
    "        \n",
    "car_01 = Car(\"BMW\", \"330i\", \"Petrol\")\n",
    "car_01.start()\n",
    "car_02 = Car(\"BMW\", \"320d\", \"Diesel\")\n",
    "car_02.start()"
   ]
  },
  {
   "cell_type": "markdown",
   "id": "4c463734",
   "metadata": {},
   "source": [
    "6. Create a base class called \"Vehicle\" with attributes like \"make\", \"model\", and \"year\". Then, create a derived class called \"Car\" that inherits from \"Vehicle\" and adds an attribute called \"fuel_type\". Implement appropriate methods in both classes."
   ]
  },
  {
   "cell_type": "code",
   "execution_count": 8,
   "id": "fb43a25d",
   "metadata": {},
   "outputs": [
    {
     "name": "stdout",
     "output_type": "stream",
     "text": [
      "starting : BMW 330i MY 2017\n",
      "started : powered by Petrol\n",
      "starting : BMW 320d MY 2015\n",
      "started : powered by Diesel\n"
     ]
    }
   ],
   "source": [
    "#A6: \n",
    "class Vehicle:\n",
    "    def __init__(self, name, model, year):\n",
    "        self.name = name\n",
    "        self.model = model\n",
    "        self.year = year\n",
    "        \n",
    "    def start(self):\n",
    "        print(\"starting :\", self.name, self.model, \"MY\", self.year)\n",
    "\n",
    "class Car(Vehicle):\n",
    "    def __init__(self, name, model, year, fuel_type):\n",
    "        super().__init__(name, model, year)\n",
    "        self.fuel_type = fuel_type\n",
    "        \n",
    "    def start(self):\n",
    "        super().start()\n",
    "        print(f\"started : powered by {self.fuel_type}\")\n",
    "        \n",
    "car_01 = Car(\"BMW\", \"330i\", \"2017\", \"Petrol\")\n",
    "car_01.start()\n",
    "car_02 = Car(\"BMW\", \"320d\", \"2015\", \"Diesel\")\n",
    "car_02.start()"
   ]
  },
  {
   "cell_type": "markdown",
   "id": "9ad449e4",
   "metadata": {},
   "source": [
    "7. Create a base class called \"Employee\" with attributes like \"name\" and \"salary.\" Derive two classes, \"Manager\" and \"Developer,\" from \"Employee.\" Add an additional attribute called \"department\" for the \"Manager\" class and \"programming_language\" for the \"Developer\" class."
   ]
  },
  {
   "cell_type": "code",
   "execution_count": 9,
   "id": "ebfb0832",
   "metadata": {},
   "outputs": [],
   "source": [
    "#A7: \n",
    "class Employee:\n",
    "    def __init__(self, name, salary):\n",
    "        self.name = name\n",
    "        self.salary = salary\n",
    "\n",
    "class Manager(Employee):\n",
    "    def __init__(self, name, salary, department):\n",
    "        super().__init__(name, salary)\n",
    "        self.department = department\n",
    "\n",
    "class Developer(Employee):\n",
    "    def __init__(self, name, salary, programming_language):\n",
    "        super().__init__(name, salary)\n",
    "        self.programming_language = programming_language\n"
   ]
  },
  {
   "cell_type": "markdown",
   "id": "db98bf28",
   "metadata": {},
   "source": [
    "8. Design a base class called \"Shape\" with attributes like \"colour\" and \"border_width.\" Create derived classes, \"Rectangle\" and \"Circle,\" that inherit from \"Shape\" and add specific attributes like \"length\" and \"width\" for the \"Rectangle\" class and \"radius\" for the \"Circle\" class."
   ]
  },
  {
   "cell_type": "code",
   "execution_count": 10,
   "id": "cca26a67",
   "metadata": {},
   "outputs": [],
   "source": [
    "#A8: \n",
    "\n",
    "class Shape:\n",
    "    def __init__(self, colour, border_width):\n",
    "        self.colour = colour\n",
    "        self.border_width = border_width\n",
    "        \n",
    "class Rectangle(Shape):\n",
    "    def __init__(self, colour, border_width, length, width):\n",
    "        super().__init__(colour, border_width)\n",
    "        self.length = length\n",
    "        self.width = width\n",
    "\n",
    "class Circle(Shape):\n",
    "    def __init__(self, colour, border_width, radius):\n",
    "        super().__init__(colour, border_width)\n",
    "        self.radius = radius\n",
    "        \n",
    "circ_01  = Circle(\"blue\", 5, 20)\n",
    "rect_01  = Rectangle(\"blue\", 5, 10, 20)"
   ]
  },
  {
   "cell_type": "markdown",
   "id": "8037ac66",
   "metadata": {},
   "source": [
    "9. Create a base class called \"Device\" with attributes like \"brand\" and \"model.\" Derive two classes, \"Phone\" and \"Tablet,\" from \"Device.\" Add specific attributes like \"screen_size\" for the \"Phone\" class and \"battery_capacity\" for the \"Tablet\" class."
   ]
  },
  {
   "cell_type": "code",
   "execution_count": 11,
   "id": "6f5f600f",
   "metadata": {},
   "outputs": [],
   "source": [
    "# A9: \n",
    "class Device:\n",
    "    def __init__(self, brand, model):\n",
    "        self.brand = brand\n",
    "        self.model = model\n",
    "        \n",
    "class Phone(Device):\n",
    "    def __init__(self, brand, model, screen_size):\n",
    "        super().__init__(brand, model)\n",
    "        self.screen_size = screen_size\n",
    "        \n",
    "class Tablet(Device):\n",
    "    def __init__(self, brand, model, battery_capacity):\n",
    "        super().__init__(brand, model)\n",
    "        self.battery_capacity = battery_capacity\n",
    "\n",
    "phone_01 = Phone(\"Google\", \"Pixel 3\", 6.1)\n",
    "tab_01 = Phone(\"Samsung\", \"Tab A7\", 6000)"
   ]
  },
  {
   "cell_type": "markdown",
   "id": "a59a5c85",
   "metadata": {},
   "source": [
    "10. Create a base class called \"BankAccount\" with attributes like \"account_number\" and \"balance.\" Derive two classes, \"SavingsAccount\" and \"CheckingAccount,\" from \"BankAccount.\" Add specific methods like \"calculate_interest\" for the \"SavingsAccount\" class and \"deduct_fees\" for the \"CheckingAccount\" class."
   ]
  },
  {
   "cell_type": "code",
   "execution_count": 12,
   "id": "4d833fe1",
   "metadata": {},
   "outputs": [
    {
     "name": "stdout",
     "output_type": "stream",
     "text": [
      "calculate_interest: interest is : 4000.0\n",
      "give_interest: interest given: 4000.0\n",
      "Current balance is : 104000.0\n",
      "--------------------------------------------------------------------------------\n",
      "deduct_fees: deducting : 2000.0\n",
      "Current balance is : 48000.0\n"
     ]
    },
    {
     "data": {
      "text/plain": [
       "True"
      ]
     },
     "execution_count": 12,
     "metadata": {},
     "output_type": "execute_result"
    }
   ],
   "source": [
    "#A10: \n",
    "\n",
    "class BankAccount:\n",
    "    def __init__(self, account_number, balance):\n",
    "        self.account_number = account_number\n",
    "        self.balance = balance\n",
    "        \n",
    "    def check_balance(self):\n",
    "        print(\"Current balance is :\", self.balance)\n",
    "\n",
    "        \n",
    "class SavingsAccount(BankAccount):\n",
    "    \n",
    "    def calculate_interest(self):\n",
    "        interest = round((self.balance * 0.04), 2)\n",
    "        print(\"calculate_interest: interest is :\", interest)\n",
    "        return interest\n",
    "    \n",
    "    def give_interest(self):\n",
    "        interest = self.calculate_interest()\n",
    "        if (not interest) or (interest <= 0):\n",
    "            print(\"give_interest: invalid interest calculated:\", interest)\n",
    "            return False\n",
    "        \n",
    "        self.balance += interest\n",
    "        print(\"give_interest: interest given:\", interest)\n",
    "        self.check_balance()\n",
    "\n",
    "\n",
    "class CheckingAccount(BankAccount):\n",
    "    \n",
    "    def deduct_fees(self):\n",
    "        fee = round((self.balance * 0.04), 2)\n",
    "        \n",
    "        if(self.balance < fee):\n",
    "            print(\"deduct_fees: insufficient balance:\", self.balance)\n",
    "            return False\n",
    "        \n",
    "        print(\"deduct_fees: deducting :\", fee)\n",
    "        self.balance -= fee\n",
    "        self.check_balance()\n",
    "        return True\n",
    "\n",
    "acc_01 = SavingsAccount(\"99999999999\", 100000)\n",
    "acc_01.give_interest()\n",
    "print('-'*80)\n",
    "acc_02 = CheckingAccount(\"6666666666\", 50000)\n",
    "acc_02.deduct_fees()    "
   ]
  }
 ],
 "metadata": {
  "kernelspec": {
   "display_name": "Python 3 (ipykernel)",
   "language": "python",
   "name": "python3"
  },
  "language_info": {
   "codemirror_mode": {
    "name": "ipython",
    "version": 3
   },
   "file_extension": ".py",
   "mimetype": "text/x-python",
   "name": "python",
   "nbconvert_exporter": "python",
   "pygments_lexer": "ipython3",
   "version": "3.11.3"
  }
 },
 "nbformat": 4,
 "nbformat_minor": 5
}
