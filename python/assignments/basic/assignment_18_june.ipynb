{
 "cells": [
  {
   "cell_type": "markdown",
   "id": "3d9e67ce",
   "metadata": {},
   "source": [
    "# Assignment 18th June"
   ]
  },
  {
   "cell_type": "markdown",
   "id": "f4290e10",
   "metadata": {},
   "source": [
    "1. What is the role of the 'else' block in a try-except statement? Provide an example scenario where it would be useful."
   ]
  },
  {
   "cell_type": "markdown",
   "id": "945a3ca7",
   "metadata": {},
   "source": [
    "A1 : The else block executes when the try block doesn't raise any exceptions and none of the except blocks are triggered."
   ]
  },
  {
   "cell_type": "markdown",
   "id": "5438c636",
   "metadata": {},
   "source": [
    "2. Can a try-except block be nested inside another try-except block? Explain with an example."
   ]
  },
  {
   "cell_type": "code",
   "execution_count": 1,
   "id": "13e85538",
   "metadata": {},
   "outputs": [
    {
     "name": "stdout",
     "output_type": "stream",
     "text": [
      "Inner : string index out of range\n"
     ]
    }
   ],
   "source": [
    "# A2 : Yes, try-except can be nested.\n",
    "try:\n",
    "    msg = \"Hello!\"\n",
    "    try:\n",
    "        print(msg[len(msg)])\n",
    "    except IndexError as e:\n",
    "        print(\"Inner :\", e)\n",
    "except ZeroDivisionError as e:\n",
    "        print(\"Outer :\", e)"
   ]
  },
  {
   "cell_type": "markdown",
   "id": "409525fb",
   "metadata": {},
   "source": [
    "3. How can you create a custom exception class in Python? Provide an example that demonstrates its usage."
   ]
  },
  {
   "cell_type": "code",
   "execution_count": 2,
   "id": "0ba20e0d",
   "metadata": {},
   "outputs": [
    {
     "name": "stdout",
     "output_type": "stream",
     "text": [
      "Invalid voting age : You are underage to vote at 12 years.\n"
     ]
    }
   ],
   "source": [
    "# A3 : We can create a custome exception class by inheriting from the Exception class, as shown : \n",
    "\n",
    "class UnderAgeException(Exception):\n",
    "    \"\"\"Age is less than the minimum required.\"\"\"\n",
    "    pass\n",
    "\n",
    "age_limit = 18\n",
    "\n",
    "try:\n",
    "    age = int(input(\"Enter age : \"))\n",
    "    if age < age_limit:\n",
    "        raise UnderAgeException(\"You are underage to vote at \"+str(age)+\" years.\")\n",
    "    else:\n",
    "        print(\"Valid voting age.\")\n",
    "\n",
    "except UnderAgeException as  e:\n",
    "    print(\"Invalid voting age :\", e)"
   ]
  },
  {
   "cell_type": "markdown",
   "id": "c380edd3",
   "metadata": {},
   "source": [
    "4. What are some common exceptions that are built-in to Python?"
   ]
  },
  {
   "cell_type": "markdown",
   "id": "860499a9",
   "metadata": {},
   "source": [
    "A4 : Some common exceptions are  \n",
    "    a. EOFError             : End of file reached while traversing\n",
    "    b. KeyError             : Key not found during a dictionary access\n",
    "    c. IndexError           : Index out of range in the sequence\n",
    "    d. NameError            : variable name not found in local or global scope\n",
    "    e. OverflowError        : Arithmetic operation result is too large to show\n",
    "    f. TabError             : Inconsistent use o tabs/spaces in indenting\n",
    "    g. ValueError           : Function received a correct type but inappropriate value in an argument\n",
    "    h. ImportError          : Unable to import the specified module"
   ]
  },
  {
   "cell_type": "markdown",
   "id": "0b2f80d5",
   "metadata": {},
   "source": [
    "5. What is logging in Python, and why is it important in software development?"
   ]
  },
  {
   "cell_type": "markdown",
   "id": "18401372",
   "metadata": {},
   "source": [
    "A5 : Logging is a way for developers to log relevant info about program's behaviour, errors or warning conditions which which are useful in monitoring the health of the program.\n",
    "Logging is important in software development as it provides info about the errors that have occurred in the program earlier and so developers can find and fix the bugs."
   ]
  },
  {
   "cell_type": "markdown",
   "id": "e78fbe01",
   "metadata": {},
   "source": [
    "6. Explain the purpose of log levels in Python logging and provide examples of when each log level would be appropriate."
   ]
  },
  {
   "cell_type": "markdown",
   "id": "086c02bd",
   "metadata": {},
   "source": [
    "A6 : Log levels decide the severity of the log-message. Based on that it can be colour coded and even logged or not based on deployment environemnt.\n",
    "Example, in production environments we cn disable debug and info log by setting the log level to warning and above.\n",
    "\n",
    "Appropriate usage of Log levels : \n",
    "\n",
    "- Debug     : detailed info helpful in diagnosis, dev and QA environments only\n",
    "- Info      : confirmation of normal operations, dev and QA environments only\n",
    "- Warning   : captures warnings about impending issues or unexpected situations, could be active on live\n",
    "- Error     : some system has failed to execute, active on live environemnt\n",
    "- Critical  : the main program has crashed and cannot recover, active on live environemnt"
   ]
  },
  {
   "cell_type": "markdown",
   "id": "464383e5",
   "metadata": {},
   "source": [
    "7. What are log formatters in Python logging, and how can you customise the log message format using formatters?"
   ]
  },
  {
   "cell_type": "code",
   "execution_count": 3,
   "id": "ae7327dc",
   "metadata": {},
   "outputs": [
    {
     "name": "stderr",
     "output_type": "stream",
     "text": [
      "08/03/2023 02:16:28 PM : DEBUG : root : Test log with updated formatting.\n",
      "08/03/2023 02:16:28 PM : ERROR : root : Test log with updated formatting.\n"
     ]
    }
   ],
   "source": [
    "# A7 : Log Formatters arrange the logging messages into a predefined and standardized format for easy readability across the team and faster diagnosis of the issue.\n",
    "#       We can do this by using formatters as shown below :  \n",
    "\n",
    "import logging\n",
    "\n",
    "lf_01 = '%(asctime)s : %(levelname)s : %(name)s : %(message)s'\n",
    "logging.basicConfig(format=lf_01, level=logging.DEBUG, datefmt='%m/%d/%Y %I:%M:%S %p')\n",
    "logging.debug(\"Test log with updated formatting.\")\n",
    "logging.error(\"Test log with updated formatting.\")"
   ]
  },
  {
   "cell_type": "markdown",
   "id": "040db2ad",
   "metadata": {},
   "source": [
    "8. How can you set up logging to capture log messages from multiple modules or classes in a Python application?"
   ]
  },
  {
   "cell_type": "code",
   "execution_count": 4,
   "id": "cd787e5c",
   "metadata": {},
   "outputs": [
    {
     "name": "stderr",
     "output_type": "stream",
     "text": [
      "08/03/2023 02:16:28 PM : WARNING : root : Test message with module name.\n"
     ]
    }
   ],
   "source": [
    "# A8 : By using module specific loggers which can be referenced by the module/class's \"__name__\" property which already contains the hierarchy.\n",
    "import logging\n",
    "\n",
    "\n",
    "logger = logging.getLogger(__name__)\n",
    "logging.warning(\"Test message with module name.\")"
   ]
  },
  {
   "cell_type": "markdown",
   "id": "aa9b7935",
   "metadata": {},
   "source": [
    "9. What is the difference between the logging and print statements in Python? When should you use logging over print statements in a real-world application?"
   ]
  },
  {
   "cell_type": "markdown",
   "id": "8e2c1f15",
   "metadata": {},
   "source": [
    "A9 : \n",
    "- The print statement can only print the message to the console while logging can also write to other streams such as a log-file. On live environemnts, the log-file is the preferred way to capture logs as real-time access to the system is not possible.\n",
    "\n",
    "- We should use logging over print statements in real-world applications to log warnings, error and critical messages since real-time access to logs isn't an option. So when the error occurs, it gets stored in the log-file which can be requested/accessed when the issue is reported."
   ]
  },
  {
   "cell_type": "markdown",
   "id": "8301c45a",
   "metadata": {},
   "source": [
    "10. Write a Python program that logs a message to a file named \"app.log\" with the following requirements:\n",
    "    ● The log message should be \"Hello, World!\"\n",
    "    ● The log level should be set to \"INFO.\"\n",
    "    ● The log file should append new log entries without overwriting previous ones."
   ]
  },
  {
   "cell_type": "code",
   "execution_count": 5,
   "id": "5ffada1e",
   "metadata": {},
   "outputs": [
    {
     "name": "stderr",
     "output_type": "stream",
     "text": [
      "08/03/2023 02:16:28 PM : WARNING : root : Hello World!\n",
      "08/03/2023 02:16:28 PM : INFO : root : Hello World!\n"
     ]
    }
   ],
   "source": [
    "# A10 : \n",
    "import logging\n",
    "\n",
    "lf_01 = '%(asctime)s : %(levelname)s : %(name)s : %(message)s'\n",
    "logging.basicConfig(filename='app.log', filemode='a', level=logging.INFO, format=lf_01, datefmt='%m/%d/%Y %I:%M:%S %p')\n",
    "logging.warning(\"Hello World!\")\n",
    "logging.info(\"Hello World!\")"
   ]
  },
  {
   "cell_type": "markdown",
   "id": "2ecf5ae6",
   "metadata": {},
   "source": [
    "11. Create a Python program that logs an error message to the console and a file named \"errors.log\" if an exception occurs during the program's execution. The error message should include the exception type and a timestamp."
   ]
  },
  {
   "cell_type": "code",
   "execution_count": 6,
   "id": "70307e07",
   "metadata": {},
   "outputs": [
    {
     "name": "stderr",
     "output_type": "stream",
     "text": [
      "08/03/2023 02:16:28 PM : ERROR : root : Some error occured : list index out of range\n",
      "08/03/2023 02:16:28 PM : ERROR : root : Some error occured : list index out of range\n"
     ]
    }
   ],
   "source": [
    "# A11 : \n",
    "import logging\n",
    "import sys\n",
    "\n",
    "\n",
    "# Setup logging for console and file\n",
    "log_formatter = logging.Formatter('%(asctime)s : %(levelname)s : %(name)s : %(message)s', datefmt='%m/%d/%Y %I:%M:%S %p')\n",
    "logger = logging.getLogger()\n",
    "logging.basicConfig(level=logging.WARNING)\n",
    "# stdout\n",
    "console_handler = logging.StreamHandler()\n",
    "console_handler.setFormatter(log_formatter)\n",
    "logger.addHandler(console_handler)\n",
    "# log-file\n",
    "file_handler = logging.FileHandler('errors.log', \"a\")\n",
    "file_handler.setFormatter(log_formatter)\n",
    "logger.addHandler(file_handler)\n",
    "\n",
    "try:\n",
    "    #res = 456 / 0\n",
    "    lst = []\n",
    "    lst[2]    \n",
    "    \n",
    "except ZeroDivisionError as e:\n",
    "    logging.error(\"Cannot divide by zero : \"+ str(e))\n",
    "except Exception as e:\n",
    "    logging.error(\"Some error occured : \" + str(e))\n"
   ]
  }
 ],
 "metadata": {
  "kernelspec": {
   "display_name": "Python 3 (ipykernel)",
   "language": "python",
   "name": "python3"
  },
  "language_info": {
   "codemirror_mode": {
    "name": "ipython",
    "version": 3
   },
   "file_extension": ".py",
   "mimetype": "text/x-python",
   "name": "python",
   "nbconvert_exporter": "python",
   "pygments_lexer": "ipython3",
   "version": "3.10.9"
  }
 },
 "nbformat": 4,
 "nbformat_minor": 5
}
