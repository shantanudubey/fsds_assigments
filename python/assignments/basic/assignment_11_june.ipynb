{
 "cells": [
  {
   "cell_type": "markdown",
   "id": "b21e5d6b",
   "metadata": {},
   "source": [
    "# Assignment 11th June "
   ]
  },
  {
   "cell_type": "markdown",
   "id": "0d1aa59d",
   "metadata": {},
   "source": [
    "1. What is a lambda function in Python, and how does it differ from a regular function?"
   ]
  },
  {
   "cell_type": "markdown",
   "id": "588466d1",
   "metadata": {},
   "source": [
    "A1 : \n",
    "Lambda functions are anonymous, short inline functions which can be used to do quick operations/calculations without going through the standard function definition, reducing developemnt effort and increasing productivity. They also help in keeping the code concise and clear.\n",
    "\n",
    "They are different from regular functions in declaration using the 'lambda' keyword instead of 'def' for functions and in intended usage of being single line of execution. It can only have expressions in its body."
   ]
  },
  {
   "cell_type": "markdown",
   "id": "c09ec169",
   "metadata": {},
   "source": [
    "2. Can a lambda function in Python have multiple arguments? If yes, how can you define and use them?"
   ]
  },
  {
   "cell_type": "code",
   "execution_count": 23,
   "id": "557994af",
   "metadata": {},
   "outputs": [
    {
     "name": "stdout",
     "output_type": "stream",
     "text": [
      "34\n"
     ]
    }
   ],
   "source": [
    "#A2 : \n",
    "max_num = lambda x, y: x if x > y else y\n",
    "print(max_num(34, 7))"
   ]
  },
  {
   "cell_type": "markdown",
   "id": "a42d3b14",
   "metadata": {},
   "source": [
    "3. How are lambda functions typically used in Python? Provide an example use case."
   ]
  },
  {
   "cell_type": "code",
   "execution_count": 24,
   "id": "e1c97b88",
   "metadata": {},
   "outputs": [
    {
     "name": "stdout",
     "output_type": "stream",
     "text": [
      "[2, 4, 6, 8, 10]\n"
     ]
    }
   ],
   "source": [
    "#A3 : lambda functions are typically used as anonymous single line functions to be passed as argument to filter() functions\n",
    "\n",
    "# Filtering a list of even numbers in a list\n",
    "list_01 = [1, 2, 3, 4, 5, 6, 7, 8, 9, 10]\n",
    "f = filter(lambda n: n%2 == 0, list_01)\n",
    "print(list(f))"
   ]
  },
  {
   "cell_type": "markdown",
   "id": "f68604fa",
   "metadata": {},
   "source": [
    "4. What are the advantages and limitations of lambda functions compared to regular functions in Python?"
   ]
  },
  {
   "cell_type": "markdown",
   "id": "a242273c",
   "metadata": {},
   "source": [
    "A4 : \n",
    "Advnatages : \n",
    "    - reduce coding effort and increase productivity\n",
    "    - can be assigned to a variable when invoked\n",
    "    - facilitate the use of higher order functions like map(), filter() etc.\n",
    "Limitations : \n",
    "    - can only return 1 value\n",
    "    - can't be named\n",
    "    - not intended for complex tasks"
   ]
  },
  {
   "cell_type": "markdown",
   "id": "2bb4bdfc",
   "metadata": {},
   "source": [
    "5. Are lambda functions in Python able to access variables defined outside of their own scope? Explain with an example."
   ]
  },
  {
   "cell_type": "code",
   "execution_count": 25,
   "id": "f00e1cfd",
   "metadata": {},
   "outputs": [
    {
     "name": "stdout",
     "output_type": "stream",
     "text": [
      "100 200 300 dummy\n"
     ]
    }
   ],
   "source": [
    "#A5 : Lambda functions can access the variables defined in the enclosing scope in addition to their own scope.\n",
    "x = 100\n",
    "y = 200\n",
    "z = 300\n",
    "s = \"dummy\"\n",
    "# All 4 variables declared above are accessible in the lambda function while only x,y were passed!\n",
    "f = lambda x, y: print(x, y, z, s)\n",
    "f(x, y)"
   ]
  },
  {
   "cell_type": "markdown",
   "id": "dd5e79d4",
   "metadata": {},
   "source": [
    "6. Write a lambda function to calculate the square of a given number."
   ]
  },
  {
   "cell_type": "code",
   "execution_count": 26,
   "id": "18b278b5",
   "metadata": {},
   "outputs": [
    {
     "data": {
      "text/plain": [
       "81"
      ]
     },
     "execution_count": 26,
     "metadata": {},
     "output_type": "execute_result"
    }
   ],
   "source": [
    "#A6 : \n",
    "f = lambda x: x*x\n",
    "f(9)"
   ]
  },
  {
   "cell_type": "markdown",
   "id": "107f147c",
   "metadata": {},
   "source": [
    "7. Create a lambda function to find the maximum value in a list of integers."
   ]
  },
  {
   "cell_type": "code",
   "execution_count": 27,
   "id": "6f679708",
   "metadata": {},
   "outputs": [
    {
     "data": {
      "text/plain": [
       "82"
      ]
     },
     "execution_count": 27,
     "metadata": {},
     "output_type": "execute_result"
    }
   ],
   "source": [
    "#A7 : \n",
    "import functools\n",
    "\n",
    "list_01 = [1, 82, 73, 4, 55, 6, 7, 68, 79, 10]\n",
    "functools.reduce(lambda x, y: max(x,y), list_01)"
   ]
  },
  {
   "cell_type": "markdown",
   "id": "3d9c3506",
   "metadata": {},
   "source": [
    "8. Implement a lambda function to filter out all the even numbers from a list of integers."
   ]
  },
  {
   "cell_type": "code",
   "execution_count": 28,
   "id": "43f133e8",
   "metadata": {},
   "outputs": [
    {
     "name": "stdout",
     "output_type": "stream",
     "text": [
      "[2, 4, 6, 8, 10]\n"
     ]
    }
   ],
   "source": [
    "#A8 : \n",
    "# Filtering a list of even numbers in a list\n",
    "list_01 = [1, 2, 3, 4, 5, 6, 7, 8, 9, 10]\n",
    "f = filter(lambda n: n%2 == 0, list_01)\n",
    "print(list(f))"
   ]
  },
  {
   "cell_type": "markdown",
   "id": "9166cf4b",
   "metadata": {},
   "source": [
    "9. Write a lambda function to sort a list of strings in ascending order based on the length of each string."
   ]
  },
  {
   "cell_type": "code",
   "execution_count": 29,
   "id": "8df21fdd",
   "metadata": {},
   "outputs": [
    {
     "name": "stdout",
     "output_type": "stream",
     "text": [
      "['a', 'is', 'of', 'This', 'list', 'dummy', 'strings']\n"
     ]
    }
   ],
   "source": [
    "#A9 : \n",
    "lst = [\"This\",\"is\", \"a\", \"list\", \"of\", \"dummy\", \"strings\"]\n",
    "f = lambda s: len(s)\n",
    "lst = sorted(lst, key=f)\n",
    "print(lst)"
   ]
  },
  {
   "cell_type": "markdown",
   "id": "f9f29ee0",
   "metadata": {},
   "source": [
    "10. Create a lambda function that takes two lists as input and returns a new list containing the common elements between the two lists."
   ]
  },
  {
   "cell_type": "code",
   "execution_count": 30,
   "id": "a2ffb1ac",
   "metadata": {},
   "outputs": [
    {
     "name": "stdout",
     "output_type": "stream",
     "text": [
      "[1, 2, 3, 5, 7, 9]\n"
     ]
    }
   ],
   "source": [
    "#A10 : \n",
    "list_01 = [1, 2, 3, 5, 7, 9, 11, 13, 17, 19]\n",
    "list_02 = [1, 2, 3, 4, 5, 6, 7, 8, 9, 10]\n",
    "\n",
    "list_03 = list(filter(lambda x: x in list_01, list_02))\n",
    "print(list_03)"
   ]
  },
  {
   "cell_type": "markdown",
   "id": "033297c5",
   "metadata": {},
   "source": [
    "11. Write a recursive function to calculate the factorial of a given positive integer."
   ]
  },
  {
   "cell_type": "code",
   "execution_count": 31,
   "id": "0dc653c8",
   "metadata": {},
   "outputs": [
    {
     "name": "stdout",
     "output_type": "stream",
     "text": [
      "6! : 720\n"
     ]
    }
   ],
   "source": [
    "#A11 : \n",
    "\n",
    "def factorial_recursive(n):\n",
    "    if n == 0:\n",
    "        return 1\n",
    "    elif n == 1:\n",
    "        return 1\n",
    "    elif n > 1:\n",
    "        return n * factorial_recursive(n - 1)\n",
    "    else:\n",
    "        print(\"Cannot calculate factorial of negative numbers :\", n)\n",
    "        return None\n",
    "\n",
    "n_fac = 6\n",
    "print(f\"{n_fac}! :\", factorial_recursive(n_fac))"
   ]
  },
  {
   "cell_type": "markdown",
   "id": "404b5fb6",
   "metadata": {},
   "source": [
    "12. Implement a recursive function to compute the nth Fibonacci number."
   ]
  },
  {
   "cell_type": "code",
   "execution_count": 32,
   "id": "208bef3a",
   "metadata": {},
   "outputs": [
    {
     "name": "stdout",
     "output_type": "stream",
     "text": [
      "Fibonacci    : 55\n",
      "Series       : 0 1 1 2 3 5 8 13 21 34 55 \n"
     ]
    }
   ],
   "source": [
    "#A12 : \n",
    "def fibonacci_recursive(n):\n",
    "    if n == 0:\n",
    "        return 0\n",
    "    elif n == 1:\n",
    "        return 1\n",
    "    elif n > 1:\n",
    "        return fibonacci_recursive(n - 1) + fibonacci_recursive(n - 2)\n",
    "    else:\n",
    "        print(\"Cannot calculate fibonacci for negative numbers :\", n)\n",
    "        return None\n",
    "    \n",
    "\n",
    "n_fib = 10\n",
    "# nth fibonacci number\n",
    "print(\"Fibonacci    :\", fibonacci_recursive(n_fib))\n",
    "print(\"Series       :\", end=' ')\n",
    "# fibonacci sequence\n",
    "for i in range(n_fib + 1):\n",
    "    print(fibonacci_recursive(i), end=' ')\n",
    "print()"
   ]
  },
  {
   "cell_type": "markdown",
   "id": "7d2fdc38",
   "metadata": {},
   "source": [
    "13. Create a recursive function to find the sum of all the elements in a given list."
   ]
  },
  {
   "cell_type": "code",
   "execution_count": 33,
   "id": "a210ddfb",
   "metadata": {},
   "outputs": [
    {
     "name": "stdout",
     "output_type": "stream",
     "text": [
      "135\n"
     ]
    }
   ],
   "source": [
    "#A13 : \n",
    "\n",
    "def sum_recursive(lst):    \n",
    "    count = len(lst)\n",
    "    if count == 0:\n",
    "        return 0 \n",
    "    res = 0\n",
    "    \n",
    "    res = lst[count-1] + sum_recursive(lst[0:count-1])\n",
    "    return res\n",
    "\n",
    "print(sum_recursive([100, 2, 3, 4, 5, 6, 7, 8]))"
   ]
  },
  {
   "cell_type": "markdown",
   "id": "bd3d085a",
   "metadata": {},
   "source": [
    "14. Write a recursive function to determine whether a given string is a palindrome."
   ]
  },
  {
   "cell_type": "code",
   "execution_count": 34,
   "id": "c30639ba",
   "metadata": {},
   "outputs": [
    {
     "name": "stdout",
     "output_type": "stream",
     "text": [
      "Palindrome : True\n",
      "Palindrome : False\n"
     ]
    }
   ],
   "source": [
    "#A14 : \n",
    "\n",
    "def chk_palindrome_recursive(s):\n",
    "    if len(s) < 1:\n",
    "        return True\n",
    "    \n",
    "    if s[0] == s[-1]:\n",
    "        return chk_palindrome_recursive(s[1:-1])\n",
    "    else:\n",
    "        return False\n",
    "    \n",
    "\n",
    "print(\"Palindrome :\", chk_palindrome_recursive(\"BASOSAB\"))\n",
    "print(\"Palindrome :\", chk_palindrome_recursive(\"iNeuron\"))"
   ]
  },
  {
   "cell_type": "markdown",
   "id": "f6ce072f",
   "metadata": {},
   "source": [
    "15. Implement a recursive function to find the greatest common divisor (GCD) of two positive integers."
   ]
  },
  {
   "cell_type": "code",
   "execution_count": 35,
   "id": "7f3efe46",
   "metadata": {},
   "outputs": [
    {
     "name": "stdout",
     "output_type": "stream",
     "text": [
      "GCD : 8\n"
     ]
    }
   ],
   "source": [
    "#A15 : \n",
    "\n",
    "def calc_gcd(a, b):\n",
    "    if b == 0:\n",
    "        return a\n",
    "    else:\n",
    "        return calc_gcd(b, a % b)\n",
    "\n",
    "\n",
    "print(\"GCD :\", calc_gcd(40, 16))"
   ]
  }
 ],
 "metadata": {
  "kernelspec": {
   "display_name": "Python 3 (ipykernel)",
   "language": "python",
   "name": "python3"
  },
  "language_info": {
   "codemirror_mode": {
    "name": "ipython",
    "version": 3
   },
   "file_extension": ".py",
   "mimetype": "text/x-python",
   "name": "python",
   "nbconvert_exporter": "python",
   "pygments_lexer": "ipython3",
   "version": "3.10.9"
  }
 },
 "nbformat": 4,
 "nbformat_minor": 5
}
